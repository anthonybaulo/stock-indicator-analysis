{
 "cells": [
  {
   "cell_type": "code",
   "execution_count": 1,
   "metadata": {},
   "outputs": [],
   "source": [
    "from config import API_KEY\n",
    "\n",
    "from alpha_vantage.timeseries import TimeSeries\n",
    "from alpha_vantage.techindicators import TechIndicators\n",
    "\n",
    "from sqlalchemy import create_engine\n",
    "import pandas as pd"
   ]
  },
  {
   "cell_type": "code",
   "execution_count": 5,
   "metadata": {},
   "outputs": [],
   "source": [
    "# Create API objects\n",
    "ts = TimeSeries(key=API_KEY, output_format='pandas')\n",
    "ti = TechIndicators(key=API_KEY, output_format='pandas')\n",
    "\n",
    "# Set db variables\n",
    "user = 'anthony'\n",
    "pw = 'pw'\n",
    "host = 'localhost:5432'\n",
    "db_name = 'indicator_tests'\n",
    "\n",
    "# Create engine for interacting with db\n",
    "engine = create_engine(f'postgresql+psycopg2://{user}:{pw}@{host}/{db_name}')"
   ]
  },
  {
   "cell_type": "code",
   "execution_count": 6,
   "metadata": {},
   "outputs": [],
   "source": [
    "# Set API variables\n",
    "ticker = 'NTNX'\n",
    "interval = '5min'\n",
    "outputsize = 'full'"
   ]
  },
  {
   "cell_type": "code",
   "execution_count": 7,
   "metadata": {},
   "outputs": [],
   "source": [
    "# Get stock price data\n",
    "df, _ = ts.get_intraday(ticker, interval=interval, outputsize=outputsize)"
   ]
  },
  {
   "cell_type": "code",
   "execution_count": 8,
   "metadata": {},
   "outputs": [],
   "source": [
    "df.drop(columns='5. volume', inplace=True)\n",
    "df.sort_index(ascending=True, inplace=True)\n",
    "\n",
    "df.rename(columns={\"1. open\": \"open\",\n",
    "                   \"2. high\": \"high\",\n",
    "                   \"3. low\": \"low\",\n",
    "                   \"4. close\": \"close\"}, \n",
    "          inplace=True)"
   ]
  },
  {
   "cell_type": "code",
   "execution_count": 13,
   "metadata": {},
   "outputs": [
    {
     "name": "stdout",
     "output_type": "stream",
     "text": [
      "<class 'pandas.core.frame.DataFrame'>\n",
      "Index: 1168 entries, 2019-08-20 09:35:00 to 2019-09-10 15:50:00\n",
      "Data columns (total 4 columns):\n",
      "open     1168 non-null float64\n",
      "high     1168 non-null float64\n",
      "low      1168 non-null float64\n",
      "close    1168 non-null float64\n",
      "dtypes: float64(4)\n",
      "memory usage: 45.6+ KB\n"
     ]
    }
   ],
   "source": [
    "df.info()"
   ]
  },
  {
   "cell_type": "code",
   "execution_count": 11,
   "metadata": {},
   "outputs": [],
   "source": [
    "# Get sma data\n",
    "sma8, _ = ti.get_sma(ticker, interval=interval, time_period=8, series_type='close')\n",
    "sma13, _ = ti.get_sma(ticker, interval=interval, time_period=13, series_type='close')\n"
   ]
  },
  {
   "cell_type": "code",
   "execution_count": 12,
   "metadata": {},
   "outputs": [
    {
     "name": "stdout",
     "output_type": "stream",
     "text": [
      "<class 'pandas.core.frame.DataFrame'>\n",
      "Index: 1154 entries, 2019-08-20 10:10 to 2019-09-10 15:50\n",
      "Data columns (total 1 columns):\n",
      "SMA    1154 non-null float64\n",
      "dtypes: float64(1)\n",
      "memory usage: 18.0+ KB\n"
     ]
    }
   ],
   "source": [
    "sma8.info()"
   ]
  },
  {
   "cell_type": "code",
   "execution_count": 14,
   "metadata": {},
   "outputs": [
    {
     "name": "stdout",
     "output_type": "stream",
     "text": [
      "<class 'pandas.core.frame.DataFrame'>\n",
      "Index: 1149 entries, 2019-08-20 10:35 to 2019-09-10 15:50\n",
      "Data columns (total 1 columns):\n",
      "SMA    1149 non-null float64\n",
      "dtypes: float64(1)\n",
      "memory usage: 18.0+ KB\n"
     ]
    }
   ],
   "source": [
    "sma13.info()"
   ]
  },
  {
   "cell_type": "code",
   "execution_count": 19,
   "metadata": {},
   "outputs": [],
   "source": [
    "# Match index range to the ntnx data\n",
    "\n",
    "sma8 = sma8[sma8.index >= '2019-08-27 10:45']\n",
    "sma13 = sma13[sma13.index >= '2019-08-27 10:45']"
   ]
  },
  {
   "cell_type": "code",
   "execution_count": 9,
   "metadata": {},
   "outputs": [
    {
     "data": {
      "text/html": [
       "<div>\n",
       "<style scoped>\n",
       "    .dataframe tbody tr th:only-of-type {\n",
       "        vertical-align: middle;\n",
       "    }\n",
       "\n",
       "    .dataframe tbody tr th {\n",
       "        vertical-align: top;\n",
       "    }\n",
       "\n",
       "    .dataframe thead th {\n",
       "        text-align: right;\n",
       "    }\n",
       "</style>\n",
       "<table border=\"1\" class=\"dataframe\">\n",
       "  <thead>\n",
       "    <tr style=\"text-align: right;\">\n",
       "      <th></th>\n",
       "      <th>open</th>\n",
       "      <th>high</th>\n",
       "      <th>low</th>\n",
       "      <th>close</th>\n",
       "    </tr>\n",
       "    <tr>\n",
       "      <th>date</th>\n",
       "      <th></th>\n",
       "      <th></th>\n",
       "      <th></th>\n",
       "      <th></th>\n",
       "    </tr>\n",
       "  </thead>\n",
       "  <tbody>\n",
       "    <tr>\n",
       "      <th>2019-08-20 09:35:00</th>\n",
       "      <td>18.9700</td>\n",
       "      <td>19.1200</td>\n",
       "      <td>18.6500</td>\n",
       "      <td>18.6600</td>\n",
       "    </tr>\n",
       "    <tr>\n",
       "      <th>2019-08-20 09:40:00</th>\n",
       "      <td>18.7203</td>\n",
       "      <td>19.0365</td>\n",
       "      <td>18.7062</td>\n",
       "      <td>19.0033</td>\n",
       "    </tr>\n",
       "    <tr>\n",
       "      <th>2019-08-20 09:45:00</th>\n",
       "      <td>18.9800</td>\n",
       "      <td>19.0000</td>\n",
       "      <td>18.8300</td>\n",
       "      <td>18.9200</td>\n",
       "    </tr>\n",
       "    <tr>\n",
       "      <th>2019-08-20 09:50:00</th>\n",
       "      <td>18.8971</td>\n",
       "      <td>18.9200</td>\n",
       "      <td>18.8400</td>\n",
       "      <td>18.8550</td>\n",
       "    </tr>\n",
       "    <tr>\n",
       "      <th>2019-08-20 09:55:00</th>\n",
       "      <td>18.8605</td>\n",
       "      <td>18.9183</td>\n",
       "      <td>18.8282</td>\n",
       "      <td>18.8905</td>\n",
       "    </tr>\n",
       "  </tbody>\n",
       "</table>\n",
       "</div>"
      ],
      "text/plain": [
       "                        open     high      low    close\n",
       "date                                                   \n",
       "2019-08-20 09:35:00  18.9700  19.1200  18.6500  18.6600\n",
       "2019-08-20 09:40:00  18.7203  19.0365  18.7062  19.0033\n",
       "2019-08-20 09:45:00  18.9800  19.0000  18.8300  18.9200\n",
       "2019-08-20 09:50:00  18.8971  18.9200  18.8400  18.8550\n",
       "2019-08-20 09:55:00  18.8605  18.9183  18.8282  18.8905"
      ]
     },
     "execution_count": 9,
     "metadata": {},
     "output_type": "execute_result"
    }
   ],
   "source": []
  },
  {
   "cell_type": "code",
   "execution_count": null,
   "metadata": {},
   "outputs": [],
   "source": []
  }
 ],
 "metadata": {
  "kernelspec": {
   "display_name": "Python 3",
   "language": "python",
   "name": "python3"
  },
  "language_info": {
   "codemirror_mode": {
    "name": "ipython",
    "version": 3
   },
   "file_extension": ".py",
   "mimetype": "text/x-python",
   "name": "python",
   "nbconvert_exporter": "python",
   "pygments_lexer": "ipython3",
   "version": "3.7.4"
  }
 },
 "nbformat": 4,
 "nbformat_minor": 4
}
