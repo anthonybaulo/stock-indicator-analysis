{
 "cells": [
  {
   "cell_type": "code",
   "execution_count": 1,
   "metadata": {},
   "outputs": [],
   "source": [
    "from config import API_KEY\n",
    "\n",
    "from alpha_vantage.timeseries import TimeSeries\n",
    "from alpha_vantage.techindicators import TechIndicators\n",
    "\n",
    "import matplotlib.pyplot as plt\n",
    "import pandas as pd\n",
    "\n",
    "%matplotlib inline"
   ]
  },
  {
   "cell_type": "code",
   "execution_count": 2,
   "metadata": {},
   "outputs": [],
   "source": [
    "ts = TimeSeries(key=API_KEY, output_format='pandas')\n",
    "ti = TechIndicators(key=API_KEY, output_format='pandas')"
   ]
  },
  {
   "cell_type": "code",
   "execution_count": 3,
   "metadata": {},
   "outputs": [],
   "source": [
    "ntnx, meta_data = ts.get_intraday('NTNX', interval='15min', outputsize='compact')"
   ]
  },
  {
   "cell_type": "code",
   "execution_count": 4,
   "metadata": {},
   "outputs": [],
   "source": [
    "ntnx.sort_index(ascending=True, inplace=True)\n",
    "# ntnx.index = pd.to_datetime(ntnx.index)"
   ]
  },
  {
   "cell_type": "code",
   "execution_count": 5,
   "metadata": {},
   "outputs": [
    {
     "data": {
      "text/plain": [
       "{'1. Information': 'Intraday (15min) open, high, low, close prices and volume',\n",
       " '2. Symbol': 'NTNX',\n",
       " '3. Last Refreshed': '2019-08-30 16:00:00',\n",
       " '4. Interval': '15min',\n",
       " '5. Output Size': 'Compact',\n",
       " '6. Time Zone': 'US/Eastern'}"
      ]
     },
     "execution_count": 5,
     "metadata": {},
     "output_type": "execute_result"
    }
   ],
   "source": [
    "meta_data"
   ]
  },
  {
   "cell_type": "code",
   "execution_count": 6,
   "metadata": {},
   "outputs": [
    {
     "data": {
      "text/html": [
       "<div>\n",
       "<style scoped>\n",
       "    .dataframe tbody tr th:only-of-type {\n",
       "        vertical-align: middle;\n",
       "    }\n",
       "\n",
       "    .dataframe tbody tr th {\n",
       "        vertical-align: top;\n",
       "    }\n",
       "\n",
       "    .dataframe thead th {\n",
       "        text-align: right;\n",
       "    }\n",
       "</style>\n",
       "<table border=\"1\" class=\"dataframe\">\n",
       "  <thead>\n",
       "    <tr style=\"text-align: right;\">\n",
       "      <th></th>\n",
       "      <th>1. open</th>\n",
       "      <th>2. high</th>\n",
       "      <th>3. low</th>\n",
       "      <th>4. close</th>\n",
       "      <th>5. volume</th>\n",
       "    </tr>\n",
       "    <tr>\n",
       "      <th>date</th>\n",
       "      <th></th>\n",
       "      <th></th>\n",
       "      <th></th>\n",
       "      <th></th>\n",
       "      <th></th>\n",
       "    </tr>\n",
       "  </thead>\n",
       "  <tbody>\n",
       "    <tr>\n",
       "      <th>2019-08-27 10:45:00</th>\n",
       "      <td>19.8356</td>\n",
       "      <td>19.87</td>\n",
       "      <td>19.78</td>\n",
       "      <td>19.8456</td>\n",
       "      <td>124670.0</td>\n",
       "    </tr>\n",
       "    <tr>\n",
       "      <th>2019-08-27 11:00:00</th>\n",
       "      <td>19.8600</td>\n",
       "      <td>19.87</td>\n",
       "      <td>19.59</td>\n",
       "      <td>19.6600</td>\n",
       "      <td>114129.0</td>\n",
       "    </tr>\n",
       "    <tr>\n",
       "      <th>2019-08-27 11:15:00</th>\n",
       "      <td>19.6300</td>\n",
       "      <td>19.67</td>\n",
       "      <td>19.41</td>\n",
       "      <td>19.4100</td>\n",
       "      <td>87742.0</td>\n",
       "    </tr>\n",
       "    <tr>\n",
       "      <th>2019-08-27 11:30:00</th>\n",
       "      <td>19.4307</td>\n",
       "      <td>19.44</td>\n",
       "      <td>19.31</td>\n",
       "      <td>19.3132</td>\n",
       "      <td>99709.0</td>\n",
       "    </tr>\n",
       "    <tr>\n",
       "      <th>2019-08-27 11:45:00</th>\n",
       "      <td>19.3200</td>\n",
       "      <td>19.45</td>\n",
       "      <td>19.30</td>\n",
       "      <td>19.3000</td>\n",
       "      <td>104210.0</td>\n",
       "    </tr>\n",
       "  </tbody>\n",
       "</table>\n",
       "</div>"
      ],
      "text/plain": [
       "                     1. open  2. high  3. low  4. close  5. volume\n",
       "date                                                              \n",
       "2019-08-27 10:45:00  19.8356    19.87   19.78   19.8456   124670.0\n",
       "2019-08-27 11:00:00  19.8600    19.87   19.59   19.6600   114129.0\n",
       "2019-08-27 11:15:00  19.6300    19.67   19.41   19.4100    87742.0\n",
       "2019-08-27 11:30:00  19.4307    19.44   19.31   19.3132    99709.0\n",
       "2019-08-27 11:45:00  19.3200    19.45   19.30   19.3000   104210.0"
      ]
     },
     "execution_count": 6,
     "metadata": {},
     "output_type": "execute_result"
    }
   ],
   "source": [
    "ntnx.head()"
   ]
  },
  {
   "cell_type": "code",
   "execution_count": 10,
   "metadata": {},
   "outputs": [
    {
     "data": {
      "text/plain": [
       "pandas.core.indexes.base.Index"
      ]
     },
     "execution_count": 10,
     "metadata": {},
     "output_type": "execute_result"
    }
   ],
   "source": [
    "type(ntnx.index)"
   ]
  },
  {
   "cell_type": "code",
   "execution_count": 7,
   "metadata": {},
   "outputs": [],
   "source": [
    "ntnx_vol = ntnx['5. volume']"
   ]
  },
  {
   "cell_type": "code",
   "execution_count": 8,
   "metadata": {},
   "outputs": [],
   "source": [
    "ntnx.drop(columns='5. volume', inplace=True)"
   ]
  },
  {
   "cell_type": "code",
   "execution_count": 9,
   "metadata": {},
   "outputs": [
    {
     "data": {
      "text/plain": [
       "<matplotlib.axes._subplots.AxesSubplot at 0x11a2a6e90>"
      ]
     },
     "execution_count": 9,
     "metadata": {},
     "output_type": "execute_result"
    },
    {
     "data": {
      "image/png": "[encoded data removed]",
      "text/plain": [
       "<Figure size 432x288 with 1 Axes>"
      ]
     },
     "metadata": {
      "needs_background": "light"
     },
     "output_type": "display_data"
    }
   ],
   "source": [
    "ntnx.plot()"
   ]
  },
  {
   "cell_type": "code",
   "execution_count": 11,
   "metadata": {},
   "outputs": [
    {
     "data": {
      "text/plain": [
       "<matplotlib.axes._subplots.AxesSubplot at 0x11af2a150>"
      ]
     },
     "execution_count": 11,
     "metadata": {},
     "output_type": "execute_result"
    },
    {
     "data": {
      "image/png": "[encoded data removed]",
      "text/plain": [
       "<Figure size 432x288 with 1 Axes>"
      ]
     },
     "metadata": {
      "needs_background": "light"
     },
     "output_type": "display_data"
    }
   ],
   "source": [
    "ntnx_vol.plot()"
   ]
  },
  {
   "cell_type": "code",
   "execution_count": 12,
   "metadata": {},
   "outputs": [],
   "source": [
    "rsi, rsi_meta = ti.get_rsi('NTNX', interval='15min', time_period=7, series_type='close')"
   ]
  },
  {
   "cell_type": "code",
   "execution_count": 13,
   "metadata": {},
   "outputs": [],
   "source": [
    "# rsi.index = pd.to_datetime(rsi.index)"
   ]
  },
  {
   "cell_type": "code",
   "execution_count": 14,
   "metadata": {},
   "outputs": [
    {
     "data": {
      "text/html": [
       "<div>\n",
       "<style scoped>\n",
       "    .dataframe tbody tr th:only-of-type {\n",
       "        vertical-align: middle;\n",
       "    }\n",
       "\n",
       "    .dataframe tbody tr th {\n",
       "        vertical-align: top;\n",
       "    }\n",
       "\n",
       "    .dataframe thead th {\n",
       "        text-align: right;\n",
       "    }\n",
       "</style>\n",
       "<table border=\"1\" class=\"dataframe\">\n",
       "  <thead>\n",
       "    <tr style=\"text-align: right;\">\n",
       "      <th></th>\n",
       "      <th>RSI</th>\n",
       "    </tr>\n",
       "    <tr>\n",
       "      <th>date</th>\n",
       "      <th></th>\n",
       "    </tr>\n",
       "  </thead>\n",
       "  <tbody>\n",
       "    <tr>\n",
       "      <th>2019-07-22 11:30</th>\n",
       "      <td>30.6624</td>\n",
       "    </tr>\n",
       "    <tr>\n",
       "      <th>2019-07-22 11:45</th>\n",
       "      <td>45.2782</td>\n",
       "    </tr>\n",
       "    <tr>\n",
       "      <th>2019-07-22 12:00</th>\n",
       "      <td>50.5150</td>\n",
       "    </tr>\n",
       "    <tr>\n",
       "      <th>2019-07-22 12:15</th>\n",
       "      <td>49.4889</td>\n",
       "    </tr>\n",
       "    <tr>\n",
       "      <th>2019-07-22 12:30</th>\n",
       "      <td>46.9660</td>\n",
       "    </tr>\n",
       "  </tbody>\n",
       "</table>\n",
       "</div>"
      ],
      "text/plain": [
       "                      RSI\n",
       "date                     \n",
       "2019-07-22 11:30  30.6624\n",
       "2019-07-22 11:45  45.2782\n",
       "2019-07-22 12:00  50.5150\n",
       "2019-07-22 12:15  49.4889\n",
       "2019-07-22 12:30  46.9660"
      ]
     },
     "execution_count": 14,
     "metadata": {},
     "output_type": "execute_result"
    }
   ],
   "source": [
    "rsi.head()"
   ]
  },
  {
   "cell_type": "code",
   "execution_count": 15,
   "metadata": {},
   "outputs": [],
   "source": [
    "rsi = rsi[rsi.index >= '2019-08-27 10:45']"
   ]
  },
  {
   "cell_type": "code",
   "execution_count": 16,
   "metadata": {},
   "outputs": [
    {
     "data": {
      "text/plain": [
       "<matplotlib.axes._subplots.AxesSubplot at 0x11b02c690>"
      ]
     },
     "execution_count": 16,
     "metadata": {},
     "output_type": "execute_result"
    },
    {
     "data": {
      "image/png": "[encoded data removed]",
      "text/plain": [
       "<Figure size 432x288 with 1 Axes>"
      ]
     },
     "metadata": {
      "needs_background": "light"
     },
     "output_type": "display_data"
    }
   ],
   "source": [
    "rsi.plot()"
   ]
  },
  {
   "cell_type": "code",
   "execution_count": 18,
   "metadata": {},
   "outputs": [],
   "source": [
    "sma8, sma8_meta = ti.get_sma('NTNX', interval='15min', time_period=8, series_type='close')\n",
    "sma13, sma13_meta = ti.get_sma('NTNX', interval='15min', time_period=13, series_type='close')"
   ]
  },
  {
   "cell_type": "code",
   "execution_count": 22,
   "metadata": {},
   "outputs": [],
   "source": [
    "sma8 = sma8[sma8.index >= '2019-08-27 10:45']\n",
    "sma13 = sma13[sma13.index >= '2019-08-27 10:45']"
   ]
  },
  {
   "cell_type": "code",
   "execution_count": 23,
   "metadata": {},
   "outputs": [
    {
     "data": {
      "text/html": [
       "<div>\n",
       "<style scoped>\n",
       "    .dataframe tbody tr th:only-of-type {\n",
       "        vertical-align: middle;\n",
       "    }\n",
       "\n",
       "    .dataframe tbody tr th {\n",
       "        vertical-align: top;\n",
       "    }\n",
       "\n",
       "    .dataframe thead th {\n",
       "        text-align: right;\n",
       "    }\n",
       "</style>\n",
       "<table border=\"1\" class=\"dataframe\">\n",
       "  <thead>\n",
       "    <tr style=\"text-align: right;\">\n",
       "      <th></th>\n",
       "      <th>SMA</th>\n",
       "    </tr>\n",
       "    <tr>\n",
       "      <th>date</th>\n",
       "      <th></th>\n",
       "    </tr>\n",
       "  </thead>\n",
       "  <tbody>\n",
       "    <tr>\n",
       "      <th>2019-08-27 10:45</th>\n",
       "      <td>19.7310</td>\n",
       "    </tr>\n",
       "    <tr>\n",
       "      <th>2019-08-27 11:00</th>\n",
       "      <td>19.7509</td>\n",
       "    </tr>\n",
       "    <tr>\n",
       "      <th>2019-08-27 11:15</th>\n",
       "      <td>19.7402</td>\n",
       "    </tr>\n",
       "    <tr>\n",
       "      <th>2019-08-27 11:30</th>\n",
       "      <td>19.7019</td>\n",
       "    </tr>\n",
       "    <tr>\n",
       "      <th>2019-08-27 11:45</th>\n",
       "      <td>19.6293</td>\n",
       "    </tr>\n",
       "  </tbody>\n",
       "</table>\n",
       "</div>"
      ],
      "text/plain": [
       "                      SMA\n",
       "date                     \n",
       "2019-08-27 10:45  19.7310\n",
       "2019-08-27 11:00  19.7509\n",
       "2019-08-27 11:15  19.7402\n",
       "2019-08-27 11:30  19.7019\n",
       "2019-08-27 11:45  19.6293"
      ]
     },
     "execution_count": 23,
     "metadata": {},
     "output_type": "execute_result"
    }
   ],
   "source": [
    "sma8.head()"
   ]
  },
  {
   "cell_type": "code",
   "execution_count": 24,
   "metadata": {},
   "outputs": [
    {
     "data": {
      "text/html": [
       "<div>\n",
       "<style scoped>\n",
       "    .dataframe tbody tr th:only-of-type {\n",
       "        vertical-align: middle;\n",
       "    }\n",
       "\n",
       "    .dataframe tbody tr th {\n",
       "        vertical-align: top;\n",
       "    }\n",
       "\n",
       "    .dataframe thead th {\n",
       "        text-align: right;\n",
       "    }\n",
       "</style>\n",
       "<table border=\"1\" class=\"dataframe\">\n",
       "  <thead>\n",
       "    <tr style=\"text-align: right;\">\n",
       "      <th></th>\n",
       "      <th>SMA</th>\n",
       "    </tr>\n",
       "    <tr>\n",
       "      <th>date</th>\n",
       "      <th></th>\n",
       "    </tr>\n",
       "  </thead>\n",
       "  <tbody>\n",
       "    <tr>\n",
       "      <th>2019-08-27 10:45</th>\n",
       "      <td>19.6065</td>\n",
       "    </tr>\n",
       "    <tr>\n",
       "      <th>2019-08-27 11:00</th>\n",
       "      <td>19.6334</td>\n",
       "    </tr>\n",
       "    <tr>\n",
       "      <th>2019-08-27 11:15</th>\n",
       "      <td>19.6368</td>\n",
       "    </tr>\n",
       "    <tr>\n",
       "      <th>2019-08-27 11:30</th>\n",
       "      <td>19.6301</td>\n",
       "    </tr>\n",
       "    <tr>\n",
       "      <th>2019-08-27 11:45</th>\n",
       "      <td>19.6201</td>\n",
       "    </tr>\n",
       "  </tbody>\n",
       "</table>\n",
       "</div>"
      ],
      "text/plain": [
       "                      SMA\n",
       "date                     \n",
       "2019-08-27 10:45  19.6065\n",
       "2019-08-27 11:00  19.6334\n",
       "2019-08-27 11:15  19.6368\n",
       "2019-08-27 11:30  19.6301\n",
       "2019-08-27 11:45  19.6201"
      ]
     },
     "execution_count": 24,
     "metadata": {},
     "output_type": "execute_result"
    }
   ],
   "source": [
    "sma13.head()"
   ]
  },
  {
   "cell_type": "code",
   "execution_count": 25,
   "metadata": {},
   "outputs": [],
   "source": [
    "smas = sma8.join(sma13, lsuffix='_8', rsuffix='_13')"
   ]
  },
  {
   "cell_type": "code",
   "execution_count": 27,
   "metadata": {},
   "outputs": [
    {
     "data": {
      "text/plain": [
       "pandas.core.indexes.base.Index"
      ]
     },
     "execution_count": 27,
     "metadata": {},
     "output_type": "execute_result"
    }
   ],
   "source": [
    "type(smas.index)"
   ]
  },
  {
   "cell_type": "code",
   "execution_count": 26,
   "metadata": {},
   "outputs": [],
   "source": [
    "# smas.index = pd.to_datetime(smas.index)"
   ]
  },
  {
   "cell_type": "code",
   "execution_count": 28,
   "metadata": {},
   "outputs": [
    {
     "data": {
      "text/html": [
       "<div>\n",
       "<style scoped>\n",
       "    .dataframe tbody tr th:only-of-type {\n",
       "        vertical-align: middle;\n",
       "    }\n",
       "\n",
       "    .dataframe tbody tr th {\n",
       "        vertical-align: top;\n",
       "    }\n",
       "\n",
       "    .dataframe thead th {\n",
       "        text-align: right;\n",
       "    }\n",
       "</style>\n",
       "<table border=\"1\" class=\"dataframe\">\n",
       "  <thead>\n",
       "    <tr style=\"text-align: right;\">\n",
       "      <th></th>\n",
       "      <th>SMA_8</th>\n",
       "      <th>SMA_13</th>\n",
       "    </tr>\n",
       "    <tr>\n",
       "      <th>date</th>\n",
       "      <th></th>\n",
       "      <th></th>\n",
       "    </tr>\n",
       "  </thead>\n",
       "  <tbody>\n",
       "    <tr>\n",
       "      <th>2019-08-27 10:45</th>\n",
       "      <td>19.7310</td>\n",
       "      <td>19.6065</td>\n",
       "    </tr>\n",
       "    <tr>\n",
       "      <th>2019-08-27 11:00</th>\n",
       "      <td>19.7509</td>\n",
       "      <td>19.6334</td>\n",
       "    </tr>\n",
       "    <tr>\n",
       "      <th>2019-08-27 11:15</th>\n",
       "      <td>19.7402</td>\n",
       "      <td>19.6368</td>\n",
       "    </tr>\n",
       "    <tr>\n",
       "      <th>2019-08-27 11:30</th>\n",
       "      <td>19.7019</td>\n",
       "      <td>19.6301</td>\n",
       "    </tr>\n",
       "    <tr>\n",
       "      <th>2019-08-27 11:45</th>\n",
       "      <td>19.6293</td>\n",
       "      <td>19.6201</td>\n",
       "    </tr>\n",
       "  </tbody>\n",
       "</table>\n",
       "</div>"
      ],
      "text/plain": [
       "                    SMA_8   SMA_13\n",
       "date                              \n",
       "2019-08-27 10:45  19.7310  19.6065\n",
       "2019-08-27 11:00  19.7509  19.6334\n",
       "2019-08-27 11:15  19.7402  19.6368\n",
       "2019-08-27 11:30  19.7019  19.6301\n",
       "2019-08-27 11:45  19.6293  19.6201"
      ]
     },
     "execution_count": 28,
     "metadata": {},
     "output_type": "execute_result"
    }
   ],
   "source": [
    "smas.head()"
   ]
  },
  {
   "cell_type": "code",
   "execution_count": 29,
   "metadata": {},
   "outputs": [
    {
     "data": {
      "text/plain": [
       "<matplotlib.axes._subplots.AxesSubplot at 0x11b132f90>"
      ]
     },
     "execution_count": 29,
     "metadata": {},
     "output_type": "execute_result"
    },
    {
     "data": {
      "image/png": "[encoded data removed]",
      "text/plain": [
       "<Figure size 432x288 with 1 Axes>"
      ]
     },
     "metadata": {
      "needs_background": "light"
     },
     "output_type": "display_data"
    }
   ],
   "source": [
    "smas.plot()"
   ]
  },
  {
   "cell_type": "code",
   "execution_count": 38,
   "metadata": {},
   "outputs": [],
   "source": [
    "# Remove last 3 characters from index string\n",
    "ntnx.index = ntnx.index.map(lambda x: x[:-3])"
   ]
  },
  {
   "cell_type": "code",
   "execution_count": 40,
   "metadata": {},
   "outputs": [],
   "source": [
    "full = ntnx.join(smas).join(rsi)"
   ]
  },
  {
   "cell_type": "code",
   "execution_count": 41,
   "metadata": {},
   "outputs": [
    {
     "data": {
      "text/html": [
       "<div>\n",
       "<style scoped>\n",
       "    .dataframe tbody tr th:only-of-type {\n",
       "        vertical-align: middle;\n",
       "    }\n",
       "\n",
       "    .dataframe tbody tr th {\n",
       "        vertical-align: top;\n",
       "    }\n",
       "\n",
       "    .dataframe thead th {\n",
       "        text-align: right;\n",
       "    }\n",
       "</style>\n",
       "<table border=\"1\" class=\"dataframe\">\n",
       "  <thead>\n",
       "    <tr style=\"text-align: right;\">\n",
       "      <th></th>\n",
       "      <th>1. open</th>\n",
       "      <th>2. high</th>\n",
       "      <th>3. low</th>\n",
       "      <th>4. close</th>\n",
       "      <th>SMA_8</th>\n",
       "      <th>SMA_13</th>\n",
       "      <th>RSI</th>\n",
       "    </tr>\n",
       "    <tr>\n",
       "      <th>date</th>\n",
       "      <th></th>\n",
       "      <th></th>\n",
       "      <th></th>\n",
       "      <th></th>\n",
       "      <th></th>\n",
       "      <th></th>\n",
       "      <th></th>\n",
       "    </tr>\n",
       "  </thead>\n",
       "  <tbody>\n",
       "    <tr>\n",
       "      <th>2019-08-27 10:45</th>\n",
       "      <td>19.8356</td>\n",
       "      <td>19.87</td>\n",
       "      <td>19.78</td>\n",
       "      <td>19.8456</td>\n",
       "      <td>19.7310</td>\n",
       "      <td>19.6065</td>\n",
       "      <td>74.1257</td>\n",
       "    </tr>\n",
       "    <tr>\n",
       "      <th>2019-08-27 11:00</th>\n",
       "      <td>19.8600</td>\n",
       "      <td>19.87</td>\n",
       "      <td>19.59</td>\n",
       "      <td>19.6600</td>\n",
       "      <td>19.7509</td>\n",
       "      <td>19.6334</td>\n",
       "      <td>48.7184</td>\n",
       "    </tr>\n",
       "    <tr>\n",
       "      <th>2019-08-27 11:15</th>\n",
       "      <td>19.6300</td>\n",
       "      <td>19.67</td>\n",
       "      <td>19.41</td>\n",
       "      <td>19.4100</td>\n",
       "      <td>19.7402</td>\n",
       "      <td>19.6368</td>\n",
       "      <td>31.6632</td>\n",
       "    </tr>\n",
       "    <tr>\n",
       "      <th>2019-08-27 11:30</th>\n",
       "      <td>19.4307</td>\n",
       "      <td>19.44</td>\n",
       "      <td>19.31</td>\n",
       "      <td>19.3132</td>\n",
       "      <td>19.7019</td>\n",
       "      <td>19.6301</td>\n",
       "      <td>27.3397</td>\n",
       "    </tr>\n",
       "    <tr>\n",
       "      <th>2019-08-27 11:45</th>\n",
       "      <td>19.3200</td>\n",
       "      <td>19.45</td>\n",
       "      <td>19.30</td>\n",
       "      <td>19.3000</td>\n",
       "      <td>19.6293</td>\n",
       "      <td>19.6201</td>\n",
       "      <td>26.7584</td>\n",
       "    </tr>\n",
       "  </tbody>\n",
       "</table>\n",
       "</div>"
      ],
      "text/plain": [
       "                  1. open  2. high  3. low  4. close    SMA_8   SMA_13  \\\n",
       "date                                                                     \n",
       "2019-08-27 10:45  19.8356    19.87   19.78   19.8456  19.7310  19.6065   \n",
       "2019-08-27 11:00  19.8600    19.87   19.59   19.6600  19.7509  19.6334   \n",
       "2019-08-27 11:15  19.6300    19.67   19.41   19.4100  19.7402  19.6368   \n",
       "2019-08-27 11:30  19.4307    19.44   19.31   19.3132  19.7019  19.6301   \n",
       "2019-08-27 11:45  19.3200    19.45   19.30   19.3000  19.6293  19.6201   \n",
       "\n",
       "                      RSI  \n",
       "date                       \n",
       "2019-08-27 10:45  74.1257  \n",
       "2019-08-27 11:00  48.7184  \n",
       "2019-08-27 11:15  31.6632  \n",
       "2019-08-27 11:30  27.3397  \n",
       "2019-08-27 11:45  26.7584  "
      ]
     },
     "execution_count": 41,
     "metadata": {},
     "output_type": "execute_result"
    }
   ],
   "source": [
    "full.head()"
   ]
  },
  {
   "cell_type": "code",
   "execution_count": null,
   "metadata": {},
   "outputs": [],
   "source": []
  }
 ],
 "metadata": {
  "kernelspec": {
   "display_name": "Python 3",
   "language": "python",
   "name": "python3"
  },
  "language_info": {
   "codemirror_mode": {
    "name": "ipython",
    "version": 3
   },
   "file_extension": ".py",
   "mimetype": "text/x-python",
   "name": "python",
   "nbconvert_exporter": "python",
   "pygments_lexer": "ipython3",
   "version": "3.7.4"
  }
 },
 "nbformat": 4,
 "nbformat_minor": 2
}
