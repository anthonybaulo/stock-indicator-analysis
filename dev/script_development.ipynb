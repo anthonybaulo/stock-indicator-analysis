{
 "cells": [
  {
   "cell_type": "code",
   "execution_count": null,
   "metadata": {},
   "outputs": [],
   "source": [
    "#!/anaconda3/envs/dsi/bin/python"
   ]
  },
  {
   "cell_type": "markdown",
   "metadata": {},
   "source": [
    "# API restrictions:\n",
    " - 5 requests per minute\n",
    " - 500 requests per day\n",
    "\n",
    "### This script makes 3 calls per run"
   ]
  },
  {
   "cell_type": "code",
   "execution_count": 16,
   "metadata": {},
   "outputs": [],
   "source": [
    "from config import API_KEY\n",
    "\n",
    "from alpha_vantage.timeseries import TimeSeries\n",
    "from alpha_vantage.techindicators import TechIndicators\n",
    "\n",
    "from sqlalchemy import create_engine\n",
    "import pandas as pd\n",
    "import random\n",
    "import time"
   ]
  },
  {
   "cell_type": "code",
   "execution_count": 17,
   "metadata": {},
   "outputs": [],
   "source": [
    "# Create API objects\n",
    "ts = TimeSeries(key=API_KEY, output_format='pandas')\n",
    "ti = TechIndicators(key=API_KEY, output_format='pandas')"
   ]
  },
  {
   "cell_type": "code",
   "execution_count": 3,
   "metadata": {},
   "outputs": [],
   "source": [
    "# Set API variables\n",
    "ticker = 'NTNX'\n",
    "interval = '5min'\n",
    "outputsize = 'full'"
   ]
  },
  {
   "cell_type": "code",
   "execution_count": 4,
   "metadata": {},
   "outputs": [],
   "source": [
    "# Get stock price data\n",
    "df, _ = ts.get_intraday(ticker, interval=interval, outputsize=outputsize)"
   ]
  },
  {
   "cell_type": "code",
   "execution_count": 5,
   "metadata": {},
   "outputs": [],
   "source": [
    "# Process df\n",
    "df.drop(columns='5. volume', inplace=True)\n",
    "df.sort_index(ascending=True, inplace=True)\n",
    "\n",
    "df.rename(columns={\"1. open\": \"open\",\n",
    "                   \"2. high\": \"high\",\n",
    "                   \"3. low\": \"low\",\n",
    "                   \"4. close\": \"close\"}, \n",
    "          inplace=True)\n",
    "\n",
    "if len(df.iloc[0].name) == 19:\n",
    "    df.index = df.index.map(lambda x: x[:-3])"
   ]
  },
  {
   "cell_type": "code",
   "execution_count": 6,
   "metadata": {},
   "outputs": [],
   "source": [
    "# Get sma data\n",
    "sma8, _ = ti.get_sma(ticker, interval=interval, time_period=8, series_type='close')\n",
    "sma13, _ = ti.get_sma(ticker, interval=interval, time_period=13, series_type='close')\n"
   ]
  },
  {
   "cell_type": "code",
   "execution_count": 7,
   "metadata": {},
   "outputs": [],
   "source": [
    "# Rename cols\n",
    "sma8.rename(columns={\"SMA\": \"sma8\"}, inplace=True)\n",
    "sma13.rename(columns={\"SMA\": \"sma13\"}, inplace=True)"
   ]
  },
  {
   "cell_type": "code",
   "execution_count": 8,
   "metadata": {},
   "outputs": [],
   "source": [
    "df = df.join(sma8, how='inner').join(sma13, how='inner')"
   ]
  },
  {
   "cell_type": "code",
   "execution_count": 9,
   "metadata": {},
   "outputs": [],
   "source": [
    "df.reset_index(inplace=True)"
   ]
  },
  {
   "cell_type": "code",
   "execution_count": 10,
   "metadata": {},
   "outputs": [],
   "source": [
    "# Create ticker col\n",
    "df.insert(0, 'ticker', ticker)"
   ]
  },
  {
   "cell_type": "code",
   "execution_count": 11,
   "metadata": {},
   "outputs": [],
   "source": [
    "# Create new columns for 'buy' trigger\n",
    "df['sma8<sma13'] = df.sma8<df.sma13"
   ]
  },
  {
   "cell_type": "code",
   "execution_count": 12,
   "metadata": {},
   "outputs": [],
   "source": [
    "df['sma_buy'] = 0\n",
    "\n",
    "# Starting on index 2, so we can reference the two previous rows\n",
    "# If sma8 < sma13 two rows ago, and sma8 > sma13 1 row ago,\n",
    "# indicate \"buy\" on current row\n",
    "\n",
    "for i in range(2, len(df)+1):\n",
    "    if (df.loc[i-2, 'sma8<sma13']) and (df.loc[i-1, 'sma8<sma13'] == False):\n",
    "        df.loc[i, 'sma_buy'] = 1"
   ]
  },
  {
   "cell_type": "code",
   "execution_count": 13,
   "metadata": {},
   "outputs": [],
   "source": [
    "# Create an empty column for wins\n",
    "df[\"sma_win\"] = 0"
   ]
  },
  {
   "cell_type": "code",
   "execution_count": 14,
   "metadata": {},
   "outputs": [],
   "source": [
    "# Populate 'sma_win' with 0 or 1 based on exit conditions\n",
    "\n",
    "# Get indexes where buy is 1 (True)\n",
    "buy_idxs = df.index[df['sma_buy']==1].tolist()\n",
    "\n",
    "for idx in buy_idxs:\n",
    "    purch_price = df.loc[idx, 'open']\n",
    "    upper_lim = purch_price * 1.01\n",
    "    lower_lim = purch_price * 0.997\n",
    "    for i in range(idx, len(df)):\n",
    "        if (df.loc[i, [\"high\", \"low\", \"close\"]]<=lower_lim).any():\n",
    "            break\n",
    "        elif (df.loc[i, [\"high\", \"low\", \"close\"]]>=upper_lim).any():\n",
    "            df.at[idx, \"sma_win\"] = 1\n",
    "            break\n",
    "        elif i == len(df):\n",
    "            break"
   ]
  },
  {
   "cell_type": "code",
   "execution_count": 15,
   "metadata": {},
   "outputs": [],
   "source": [
    "# Populate df with 'random' buys and wins\n",
    "df['rnd_buy'] = 0\n",
    "df['rnd_win'] = 0\n",
    "\n",
    "# Generate a number of random buys +/- 10% of number of sma buys\n",
    "rnd_buys = int(df.sma_buy.sum() * random.uniform(0.9, 1.1))\n",
    "\n",
    "# List of random indexes to 'buy'\n",
    "rnd_idxs = random.sample(range(len(df)), rnd_buys)\n",
    "\n",
    "df.loc[rnd_idxs, 'rnd_buy'] = 1\n",
    "\n",
    "for idx in rnd_idxs:\n",
    "    purch_price = df.loc[idx, 'open']\n",
    "    upper_lim = purch_price * 1.01\n",
    "    lower_lim = purch_price * 0.997\n",
    "    for i in range(idx, len(df)):\n",
    "        if (df.loc[i, [\"high\", \"low\", \"close\"]]<=lower_lim).any():\n",
    "            break\n",
    "        elif (df.loc[i, [\"high\", \"low\", \"close\"]]>=upper_lim).any():\n",
    "            df.at[idx, \"rnd_win\"] = 1\n",
    "            break\n",
    "        elif i == len(df):\n",
    "            break"
   ]
  },
  {
   "cell_type": "code",
   "execution_count": 16,
   "metadata": {},
   "outputs": [],
   "source": [
    "# Store in Postgres db\n",
    "\n",
    "# Set db variables\n",
    "user = 'anthony'\n",
    "pw = 'pw'\n",
    "host = 'localhost:5432'\n",
    "db_name = 'indicator_tests'\n",
    "table = 'sma_nasdaq'\n",
    "\n",
    "# Create engine for interacting with db\n",
    "engine = create_engine(f'postgresql+psycopg2://{user}:{pw}@{host}/{db_name}')\n",
    "\n",
    "# Append to db\n",
    "df.to_sql(table, engine, if_exists='append')"
   ]
  },
  {
   "cell_type": "code",
   "execution_count": null,
   "metadata": {},
   "outputs": [],
   "source": [
    "# if __name__ == \"__main__\":\n",
    "#     main()\n",
    "#     time.sleep(60)"
   ]
  }
 ],
 "metadata": {
  "kernelspec": {
   "display_name": "Python 3",
   "language": "python",
   "name": "python3"
  },
  "language_info": {
   "codemirror_mode": {
    "name": "ipython",
    "version": 3
   },
   "file_extension": ".py",
   "mimetype": "text/x-python",
   "name": "python",
   "nbconvert_exporter": "python",
   "pygments_lexer": "ipython3",
   "version": "3.7.4"
  }
 },
 "nbformat": 4,
 "nbformat_minor": 4
}
