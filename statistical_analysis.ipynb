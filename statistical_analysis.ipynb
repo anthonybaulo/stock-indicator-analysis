{
 "cells": [
  {
   "cell_type": "code",
   "execution_count": 1,
   "metadata": {},
   "outputs": [],
   "source": [
    "import numpy as np\n",
    "import pandas as pd\n",
    "import matplotlib.pyplot as plt\n",
    "import scipy.stats as sts\n",
    "import psycopg2 as pg2\n",
    "\n",
    "from sqlalchemy import create_engine\n",
    "\n",
    "plt.style.use('ggplot')\n",
    "%matplotlib inline"
   ]
  },
  {
   "cell_type": "code",
   "execution_count": 2,
   "metadata": {},
   "outputs": [],
   "source": [
    "# Set db variables\n",
    "user = 'anthony'\n",
    "pw = 'pw'\n",
    "host = 'localhost:5432'\n",
    "db_name = 'indicator_tests'\n",
    "\n",
    "# Create engine for interacting with db\n",
    "engine = create_engine(f'postgresql+psycopg2://{user}:{pw}@{host}/{db_name}')"
   ]
  },
  {
   "cell_type": "code",
   "execution_count": 3,
   "metadata": {},
   "outputs": [],
   "source": [
    "sma_nas = pd.read_sql_query(f'''SELECT ticker, sma_win\n",
    "                                FROM sma_nasdaq\n",
    "                                WHERE sma_buy = 1''',\n",
    "                            con=engine)"
   ]
  },
  {
   "cell_type": "code",
   "execution_count": 4,
   "metadata": {},
   "outputs": [
    {
     "name": "stdout",
     "output_type": "stream",
     "text": [
      "<class 'pandas.core.frame.DataFrame'>\n",
      "RangeIndex: 3043 entries, 0 to 3042\n",
      "Data columns (total 2 columns):\n",
      "ticker     3035 non-null object\n",
      "sma_win    3043 non-null int64\n",
      "dtypes: int64(1), object(1)\n",
      "memory usage: 47.7+ KB\n"
     ]
    }
   ],
   "source": [
    "# Note: some tickers are None\n",
    "sma_nas.info()"
   ]
  },
  {
   "cell_type": "code",
   "execution_count": 5,
   "metadata": {},
   "outputs": [],
   "source": [
    "sma_nas.dropna(inplace=True)"
   ]
  },
  {
   "cell_type": "code",
   "execution_count": 6,
   "metadata": {},
   "outputs": [
    {
     "data": {
      "text/html": [
       "<div>\n",
       "<style scoped>\n",
       "    .dataframe tbody tr th:only-of-type {\n",
       "        vertical-align: middle;\n",
       "    }\n",
       "\n",
       "    .dataframe tbody tr th {\n",
       "        vertical-align: top;\n",
       "    }\n",
       "\n",
       "    .dataframe thead th {\n",
       "        text-align: right;\n",
       "    }\n",
       "</style>\n",
       "<table border=\"1\" class=\"dataframe\">\n",
       "  <thead>\n",
       "    <tr style=\"text-align: right;\">\n",
       "      <th></th>\n",
       "      <th>ticker</th>\n",
       "      <th>sma_win</th>\n",
       "    </tr>\n",
       "  </thead>\n",
       "  <tbody>\n",
       "    <tr>\n",
       "      <th>0</th>\n",
       "      <td>MVIS</td>\n",
       "      <td>0</td>\n",
       "    </tr>\n",
       "    <tr>\n",
       "      <th>1</th>\n",
       "      <td>MVIS</td>\n",
       "      <td>0</td>\n",
       "    </tr>\n",
       "    <tr>\n",
       "      <th>2</th>\n",
       "      <td>MVIS</td>\n",
       "      <td>1</td>\n",
       "    </tr>\n",
       "    <tr>\n",
       "      <th>3</th>\n",
       "      <td>MVIS</td>\n",
       "      <td>1</td>\n",
       "    </tr>\n",
       "    <tr>\n",
       "      <th>4</th>\n",
       "      <td>MVIS</td>\n",
       "      <td>0</td>\n",
       "    </tr>\n",
       "  </tbody>\n",
       "</table>\n",
       "</div>"
      ],
      "text/plain": [
       "  ticker  sma_win\n",
       "0   MVIS        0\n",
       "1   MVIS        0\n",
       "2   MVIS        1\n",
       "3   MVIS        1\n",
       "4   MVIS        0"
      ]
     },
     "execution_count": 6,
     "metadata": {},
     "output_type": "execute_result"
    }
   ],
   "source": [
    "sma_nas.head()"
   ]
  },
  {
   "cell_type": "code",
   "execution_count": 10,
   "metadata": {},
   "outputs": [
    {
     "data": {
      "image/png": "[encoded data removed]",
      "text/plain": [
       "<Figure size 648x648 with 1 Axes>"
      ]
     },
     "metadata": {
      "needs_background": "light"
     },
     "output_type": "display_data"
    }
   ],
   "source": [
    "ax = sma_nas.sma_win.value_counts().plot(kind='bar',\n",
    "                                         figsize=(9,9),\n",
    "                                         title= 'Wins/Losses for SMA on NASDAQ',\n",
    "                                         color=['red', 'blue']\n",
    "                                        )"
   ]
  },
  {
   "cell_type": "code",
   "execution_count": 24,
   "metadata": {},
   "outputs": [
    {
     "name": "stdout",
     "output_type": "stream",
     "text": [
      "wins: 884\n",
      "losses: 2151\n",
      "mean: 0.2912685337726524\n",
      "std: 0.4544218461808592\n",
      "se: 0.00824859259696956\n"
     ]
    }
   ],
   "source": [
    "wins = sma_nas.sma_win.value_counts()[1]\n",
    "losses = sma_nas.sma_win.value_counts()[0]\n",
    "sma_mean = sma_nas.loc[:,\"sma_win\"].mean()\n",
    "std = sma_nas.loc[:,\"sma_win\"].std()\n",
    "sma_se = std / np.sqrt(wins+losses)\n",
    "print(f'wins: {wins}\\nlosses: {losses}\\nmean: {sma_mean}\\nstd: {std}\\nse: {sma_se}')"
   ]
  },
  {
   "cell_type": "code",
   "execution_count": 20,
   "metadata": {},
   "outputs": [],
   "source": [
    "rnd_nas = pd.read_sql_query(f'''SELECT ticker, rnd_win\n",
    "                                FROM sma_nasdaq\n",
    "                                WHERE rnd_buy = 1''',\n",
    "                            con=engine)"
   ]
  },
  {
   "cell_type": "code",
   "execution_count": 21,
   "metadata": {},
   "outputs": [
    {
     "name": "stdout",
     "output_type": "stream",
     "text": [
      "<class 'pandas.core.frame.DataFrame'>\n",
      "RangeIndex: 2986 entries, 0 to 2985\n",
      "Data columns (total 2 columns):\n",
      "ticker     2986 non-null object\n",
      "rnd_win    2986 non-null int64\n",
      "dtypes: int64(1), object(1)\n",
      "memory usage: 46.8+ KB\n"
     ]
    }
   ],
   "source": [
    "rnd_nas.info()"
   ]
  },
  {
   "cell_type": "code",
   "execution_count": 22,
   "metadata": {},
   "outputs": [
    {
     "data": {
      "text/html": [
       "<div>\n",
       "<style scoped>\n",
       "    .dataframe tbody tr th:only-of-type {\n",
       "        vertical-align: middle;\n",
       "    }\n",
       "\n",
       "    .dataframe tbody tr th {\n",
       "        vertical-align: top;\n",
       "    }\n",
       "\n",
       "    .dataframe thead th {\n",
       "        text-align: right;\n",
       "    }\n",
       "</style>\n",
       "<table border=\"1\" class=\"dataframe\">\n",
       "  <thead>\n",
       "    <tr style=\"text-align: right;\">\n",
       "      <th></th>\n",
       "      <th>ticker</th>\n",
       "      <th>rnd_win</th>\n",
       "    </tr>\n",
       "  </thead>\n",
       "  <tbody>\n",
       "    <tr>\n",
       "      <th>0</th>\n",
       "      <td>MVIS</td>\n",
       "      <td>0</td>\n",
       "    </tr>\n",
       "    <tr>\n",
       "      <th>1</th>\n",
       "      <td>MVIS</td>\n",
       "      <td>1</td>\n",
       "    </tr>\n",
       "    <tr>\n",
       "      <th>2</th>\n",
       "      <td>MVIS</td>\n",
       "      <td>1</td>\n",
       "    </tr>\n",
       "    <tr>\n",
       "      <th>3</th>\n",
       "      <td>MVIS</td>\n",
       "      <td>0</td>\n",
       "    </tr>\n",
       "    <tr>\n",
       "      <th>4</th>\n",
       "      <td>MVIS</td>\n",
       "      <td>0</td>\n",
       "    </tr>\n",
       "  </tbody>\n",
       "</table>\n",
       "</div>"
      ],
      "text/plain": [
       "  ticker  rnd_win\n",
       "0   MVIS        0\n",
       "1   MVIS        1\n",
       "2   MVIS        1\n",
       "3   MVIS        0\n",
       "4   MVIS        0"
      ]
     },
     "execution_count": 22,
     "metadata": {},
     "output_type": "execute_result"
    }
   ],
   "source": [
    "rnd_nas.head()"
   ]
  },
  {
   "cell_type": "code",
   "execution_count": 23,
   "metadata": {},
   "outputs": [
    {
     "data": {
      "image/png": "[encoded data removed]",
      "text/plain": [
       "<Figure size 648x648 with 1 Axes>"
      ]
     },
     "metadata": {
      "needs_background": "light"
     },
     "output_type": "display_data"
    }
   ],
   "source": [
    "ax = rnd_nas.rnd_win.value_counts().plot(kind='bar',\n",
    "                                         figsize=(9,9),\n",
    "                                         title= 'Wins/Losses for Random on NASDAQ',\n",
    "                                         color=['red', 'blue']\n",
    "                                        )"
   ]
  },
  {
   "cell_type": "code",
   "execution_count": 25,
   "metadata": {},
   "outputs": [
    {
     "name": "stdout",
     "output_type": "stream",
     "text": [
      "wins: 843\n",
      "losses: 2143\n",
      "mean: 0.28231748158070996\n",
      "std: 0.45020239744938706\n",
      "se: 0.008238779917613369\n"
     ]
    }
   ],
   "source": [
    "wins = rnd_nas.rnd_win.value_counts()[1]\n",
    "losses = rnd_nas.rnd_win.value_counts()[0]\n",
    "rnd_mean = rnd_nas.loc[:,\"rnd_win\"].mean()\n",
    "std = rnd_nas.loc[:,\"rnd_win\"].std()\n",
    "rnd_se = std / np.sqrt(wins+losses)\n",
    "print(f'wins: {wins}\\nlosses: {losses}\\nmean: {rnd_mean}\\nstd: {std}\\nse: {rnd_se}')"
   ]
  },
  {
   "cell_type": "code",
   "execution_count": 28,
   "metadata": {},
   "outputs": [
    {
     "name": "stdout",
     "output_type": "stream",
     "text": [
      "t_stat: -0.7677813523155645\n",
      "p_value: 0.44264721467983303\n"
     ]
    }
   ],
   "source": [
    "rnd_data = rnd_nas.rnd_win\n",
    "sma_data = sma_nas.sma_win\n",
    "\n",
    "t_stat, p_value = sts.ttest_ind(rnd_data, sma_data, equal_var=False)\n",
    "\n",
    "print(f't_stat: {t_stat}\\np_value: {p_value}')"
   ]
  },
  {
   "cell_type": "code",
   "execution_count": null,
   "metadata": {},
   "outputs": [],
   "source": []
  }
 ],
 "metadata": {
  "kernelspec": {
   "display_name": "Python 3",
   "language": "python",
   "name": "python3"
  },
  "language_info": {
   "codemirror_mode": {
    "name": "ipython",
    "version": 3
   },
   "file_extension": ".py",
   "mimetype": "text/x-python",
   "name": "python",
   "nbconvert_exporter": "python",
   "pygments_lexer": "ipython3",
   "version": "3.7.4"
  }
 },
 "nbformat": 4,
 "nbformat_minor": 4
}
