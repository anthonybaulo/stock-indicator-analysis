{
 "cells": [
  {
   "cell_type": "code",
   "execution_count": 1,
   "metadata": {},
   "outputs": [],
   "source": [
    "import numpy as np\n",
    "import pandas as pd\n",
    "import math\n",
    "import matplotlib.pyplot as plt\n",
    "import scipy.stats as sts\n",
    "import psycopg2 as pg2\n",
    "\n",
    "from sqlalchemy import create_engine\n",
    "\n",
    "plt.style.use('ggplot')\n",
    "%matplotlib inline"
   ]
  },
  {
   "cell_type": "code",
   "execution_count": 2,
   "metadata": {},
   "outputs": [],
   "source": [
    "# Set db variables\n",
    "user = 'anthony'\n",
    "pw = 'pw'\n",
    "host = 'localhost:5432'\n",
    "db_name = 'indicator_tests'\n",
    "\n",
    "# Create engine for interacting with db\n",
    "engine = create_engine(f'postgresql+psycopg2://{user}:{pw}@{host}/{db_name}')"
   ]
  },
  {
   "cell_type": "markdown",
   "metadata": {},
   "source": [
    "### Get NASDAQ ETF list :\n"
   ]
  },
  {
   "cell_type": "code",
   "execution_count": 3,
   "metadata": {},
   "outputs": [],
   "source": [
    "nas_etf = pd.read_csv('../data/NAS_ETF_List.csv')"
   ]
  },
  {
   "cell_type": "code",
   "execution_count": 4,
   "metadata": {},
   "outputs": [],
   "source": [
    "nas_etf = nas_etf['Symbol'].to_list()"
   ]
  },
  {
   "cell_type": "code",
   "execution_count": 5,
   "metadata": {},
   "outputs": [],
   "source": [
    "# nas_etf[:10]"
   ]
  },
  {
   "cell_type": "markdown",
   "metadata": {},
   "source": [
    "### SMA Entries"
   ]
  },
  {
   "cell_type": "code",
   "execution_count": 6,
   "metadata": {},
   "outputs": [],
   "source": [
    "sma_nas = pd.read_sql_query(f'''SELECT ticker, sma_win\n",
    "                                FROM sma_nasdaq\n",
    "                                WHERE sma_buy = 1''',\n",
    "                            con=engine)"
   ]
  },
  {
   "cell_type": "code",
   "execution_count": 14,
   "metadata": {},
   "outputs": [],
   "source": [
    "# Note: some tickers are None\n",
    "# sma_nas.info()"
   ]
  },
  {
   "cell_type": "code",
   "execution_count": 8,
   "metadata": {},
   "outputs": [],
   "source": [
    "sma_nas.dropna(inplace=True)"
   ]
  },
  {
   "cell_type": "code",
   "execution_count": 9,
   "metadata": {},
   "outputs": [],
   "source": [
    "# sma_nas.info()"
   ]
  },
  {
   "cell_type": "code",
   "execution_count": 10,
   "metadata": {},
   "outputs": [],
   "source": [
    "# Remove ETFs if exist\n",
    "sma_nas = sma_nas[~sma_nas.ticker.isin(nas_etf)]"
   ]
  },
  {
   "cell_type": "code",
   "execution_count": 11,
   "metadata": {},
   "outputs": [],
   "source": [
    "# sma_nas.info()"
   ]
  },
  {
   "cell_type": "code",
   "execution_count": 16,
   "metadata": {},
   "outputs": [
    {
     "name": "stdout",
     "output_type": "stream",
     "text": [
      "Total number of observations of SMA entries: 2976\n"
     ]
    }
   ],
   "source": [
    "obs = sma_nas.sma_win.count()\n",
    "print(f'Total number of observations of SMA entries: {obs}')"
   ]
  },
  {
   "cell_type": "code",
   "execution_count": 17,
   "metadata": {},
   "outputs": [
    {
     "name": "stdout",
     "output_type": "stream",
     "text": [
      "wins: 859\n",
      "losses: 2117\n",
      "mean: 0.28864247311827956\n",
      "std: 0.4532074730674296\n",
      "se: 0.008307696053932029\n"
     ]
    }
   ],
   "source": [
    "wins = sma_nas.sma_win.value_counts()[1]\n",
    "losses = sma_nas.sma_win.value_counts()[0]\n",
    "sma_mean = sma_nas.loc[:,\"sma_win\"].mean()\n",
    "std = sma_nas.loc[:,\"sma_win\"].std()\n",
    "sma_se = std / np.sqrt(wins+losses)\n",
    "print(f'wins: {wins}\\nlosses: {losses}\\nmean: {sma_mean}\\nstd: {std}\\nse: {sma_se}')"
   ]
  },
  {
   "cell_type": "code",
   "execution_count": 15,
   "metadata": {},
   "outputs": [],
   "source": [
    "# x_min = 0.26\n",
    "# x_max = 0.325\n",
    "\n",
    "# mean = sma_mean \n",
    "# std = sma_se\n",
    "\n",
    "# x = np.linspace(x_min, x_max, wins+losses)\n",
    "\n",
    "# y = sts.norm.pdf(x,mean,std)\n",
    "\n",
    "# plt.plot(x,y, color='coral')\n",
    "\n",
    "# plt.xlim(x_min,x_max)\n",
    "# plt.ylim(0,50)\n",
    "\n",
    "# plt.title('SMA Win Distribution',fontsize=22)\n",
    "\n",
    "# plt.xlabel('Win Percentages')\n",
    "# plt.ylabel('Observations')"
   ]
  },
  {
   "cell_type": "markdown",
   "metadata": {},
   "source": [
    "### Random Entries"
   ]
  },
  {
   "cell_type": "code",
   "execution_count": 18,
   "metadata": {},
   "outputs": [],
   "source": [
    "rnd_nas = pd.read_sql_query(f'''SELECT ticker, rnd_win\n",
    "                                FROM sma_nasdaq\n",
    "                                WHERE rnd_buy = 1''',\n",
    "                            con=engine)"
   ]
  },
  {
   "cell_type": "code",
   "execution_count": 19,
   "metadata": {},
   "outputs": [],
   "source": [
    "# rnd_nas.info()"
   ]
  },
  {
   "cell_type": "code",
   "execution_count": 20,
   "metadata": {},
   "outputs": [],
   "source": [
    "# Remove ETFs if exist\n",
    "rnd_nas = rnd_nas[~rnd_nas.ticker.isin(nas_etf)]"
   ]
  },
  {
   "cell_type": "code",
   "execution_count": 21,
   "metadata": {},
   "outputs": [],
   "source": [
    "# rnd_nas.info()"
   ]
  },
  {
   "cell_type": "code",
   "execution_count": 23,
   "metadata": {},
   "outputs": [
    {
     "name": "stdout",
     "output_type": "stream",
     "text": [
      "Total number of observations of Random entries: 2930\n"
     ]
    }
   ],
   "source": [
    "obs = rnd_nas.rnd_win.count()\n",
    "print(f'Total number of observations of Random entries: {obs}')"
   ]
  },
  {
   "cell_type": "code",
   "execution_count": 24,
   "metadata": {},
   "outputs": [
    {
     "name": "stdout",
     "output_type": "stream",
     "text": [
      "wins: 827\n",
      "losses: 2103\n",
      "mean: 0.28225255972696245\n",
      "std: 0.45017243125041223\n",
      "se: 0.008316586040225485\n"
     ]
    }
   ],
   "source": [
    "wins = rnd_nas.rnd_win.value_counts()[1]\n",
    "losses = rnd_nas.rnd_win.value_counts()[0]\n",
    "rnd_mean = rnd_nas.loc[:,\"rnd_win\"].mean()\n",
    "std = rnd_nas.loc[:,\"rnd_win\"].std()\n",
    "rnd_se = std / np.sqrt(wins+losses)\n",
    "print(f'wins: {wins}\\nlosses: {losses}\\nmean: {rnd_mean}\\nstd: {std}\\nse: {rnd_se}')"
   ]
  },
  {
   "cell_type": "code",
   "execution_count": 22,
   "metadata": {},
   "outputs": [],
   "source": [
    "# x_min = 0.25\n",
    "# x_max = 0.315\n",
    "\n",
    "# mean = rnd_mean \n",
    "# std = rnd_se\n",
    "\n",
    "# x = np.linspace(x_min, x_max, wins+losses)\n",
    "\n",
    "# y = sts.norm.pdf(x,mean,std)\n",
    "\n",
    "# plt.plot(x,y, color='coral')\n",
    "\n",
    "# plt.xlim(x_min,x_max)\n",
    "# plt.ylim(0,50)\n",
    "\n",
    "# plt.title('Random Win Distribution',fontsize=22)\n",
    "\n",
    "# plt.xlabel('Win Percentages')\n",
    "# plt.ylabel('Observations')"
   ]
  },
  {
   "cell_type": "markdown",
   "metadata": {},
   "source": [
    "# Calculate Statistics"
   ]
  },
  {
   "cell_type": "code",
   "execution_count": 27,
   "metadata": {},
   "outputs": [
    {
     "name": "stdout",
     "output_type": "stream",
     "text": [
      "t_stat: -0.543584428915917\n",
      "p_value: 0.5867480026815965\n"
     ]
    }
   ],
   "source": [
    "rnd_data = rnd_nas.rnd_win\n",
    "sma_data = sma_nas.sma_win\n",
    "\n",
    "t_stat, p_value = sts.ttest_ind(rnd_data, sma_data, equal_var=False)\n",
    "\n",
    "print(f't_stat: {t_stat}\\np_value: {p_value}')"
   ]
  },
  {
   "cell_type": "code",
   "execution_count": 24,
   "metadata": {},
   "outputs": [
    {
     "name": "stdout",
     "output_type": "stream",
     "text": [
      "t_val: 1.6453617078374079\n"
     ]
    }
   ],
   "source": [
    "# #Studnt, n=999, p<0.05%, Single tail\n",
    "num = 3000\n",
    "alpha = 0.05\n",
    "t_val = sts.t.ppf(1-alpha, num)\n",
    "print(f't_val: {t_val}')"
   ]
  },
  {
   "cell_type": "code",
   "execution_count": 28,
   "metadata": {},
   "outputs": [
    {
     "name": "stdout",
     "output_type": "stream",
     "text": [
      "z_alpha: 1.6448536269514722\n",
      "z_beta: 1.6448536269514729\n",
      "The number of samples needed to reject the null hypothesis with \n",
      "alpha=0.05 and beta=0.05 is: \n",
      "53695 samples\n"
     ]
    }
   ],
   "source": [
    "alpha, beta = (.05, .05)\n",
    "mu_a = rnd_data.mean()\n",
    "mu_b = sma_data.mean()\n",
    "std = np.sqrt(mu_a*(1-mu_a))\n",
    "\n",
    "#ppf - percent point function, inverse of cdf\n",
    "z_alpha = sts.norm.ppf(1-alpha)\n",
    "z_beta = -1*sts.norm.ppf(beta)\n",
    "print(f'z_alpha: {z_alpha}\\nz_beta: {z_beta}')\n",
    "\n",
    "n = np.power(((z_alpha+z_beta)*std)/(mu_a - mu_b),2)\n",
    "print(f'The number of samples needed to reject the null hypothesis with \\nalpha={alpha} and beta={beta} is: \\n{int(n)} samples')\n"
   ]
  },
  {
   "cell_type": "code",
   "execution_count": 25,
   "metadata": {},
   "outputs": [],
   "source": [
    "def compute_power(null, alt, alpha):\n",
    "    mu0 = null.mean()\n",
    "    se0 = null.std() / np.sqrt(len(null))\n",
    "    \n",
    "    mua = alt.mean()\n",
    "    sea = alt.std() / np.sqrt(len(alt))\n",
    "    \n",
    "    h0 = sts.norm(mu0, se0)\n",
    "    ha = sts.norm(mua, sea)\n",
    "    \n",
    "    critical_value = h0.ppf(1 - alpha)\n",
    "    power = 1 - ha.cdf(critical_value)\n",
    "    \n",
    "    return power"
   ]
  },
  {
   "cell_type": "code",
   "execution_count": 30,
   "metadata": {},
   "outputs": [
    {
     "data": {
      "text/plain": [
       "0.19011899503025287"
      ]
     },
     "execution_count": 30,
     "metadata": {},
     "output_type": "execute_result"
    }
   ],
   "source": [
    "compute_power(rnd_data, sma_data, 0.05)"
   ]
  },
  {
   "cell_type": "code",
   "execution_count": 34,
   "metadata": {},
   "outputs": [],
   "source": [
    "def standard_deviation_difference_in_proportions(n1, p1, n2, p2):\n",
    "    p = (n1*p1 + n2*p2) / (n1 + n2)\n",
    "    return np.sqrt(p*(1-p))"
   ]
  },
  {
   "cell_type": "code",
   "execution_count": 35,
   "metadata": {},
   "outputs": [],
   "source": [
    "def calc_minimum_sample_size(control_data, treatment_data, alpha, effect_size, power):\n",
    "    \"\"\"Calculate the minimum sample size for a z-test needed to achieve a given power.\n",
    "    \n",
    "    Parameters\n",
    "    ----------\n",
    "    \n",
    "    control_data: array\n",
    "      One dimensional array containing data from control group.\n",
    "    \n",
    "    treatment_data: array\n",
    "      One dimensional array containing data from treatment group.\n",
    "    \n",
    "    alpha: float\n",
    "      Desired significance level.  Must be between zero and one.\n",
    "    \n",
    "    effect_size: float\n",
    "      Desired effect size to detect.\n",
    "    \n",
    "    power: float\n",
    "      Desired power.  Must be between zero and one.\n",
    "    \n",
    "    Returns\n",
    "    -------\n",
    "    \n",
    "    sample_size: int\n",
    "      Minimum sample size to achieve a desired power.\n",
    "    \"\"\"\n",
    "    standard_normal = sts.norm(0, 1)\n",
    "    beta = 1 - power\n",
    "    \n",
    "    mu0 = control_data.mean()\n",
    "    mua = treatment_data.mean()\n",
    "    sigma = standard_deviation_difference_in_proportions(\n",
    "        len(control_data), mu0, len(treatment_data), mua)\n",
    "    \n",
    "    numerator = sigma * (standard_normal.ppf(1 - alpha) - standard_normal.ppf(beta))\n",
    "    denominator = mua - mu0\n",
    "    return math.ceil((numerator / denominator) ** 2)"
   ]
  },
  {
   "cell_type": "code",
   "execution_count": 38,
   "metadata": {},
   "outputs": [
    {
     "name": "stdout",
     "output_type": "stream",
     "text": [
      "Minimum sample size needed to achieve 0.95 power and 0.006 effect size, with 0.05 alpha: 54064\n"
     ]
    }
   ],
   "source": [
    "mu_diff = abs(rnd_data.mean()-sma_data.mean())\n",
    "power = 0.95\n",
    "alpha = 0.05\n",
    "\n",
    "minsize = calc_minimum_sample_size(rnd_data, sma_data, alpha, mu_diff, power)\n",
    "\n",
    "print(f'Minimum sample size needed to achieve {power} power and {mu_diff:.3f} effect size, with {alpha} alpha: {minsize}')"
   ]
  },
  {
   "cell_type": "code",
   "execution_count": null,
   "metadata": {},
   "outputs": [],
   "source": []
  }
 ],
 "metadata": {
  "kernelspec": {
   "display_name": "Python 3",
   "language": "python",
   "name": "python3"
  },
  "language_info": {
   "codemirror_mode": {
    "name": "ipython",
    "version": 3
   },
   "file_extension": ".py",
   "mimetype": "text/x-python",
   "name": "python",
   "nbconvert_exporter": "python",
   "pygments_lexer": "ipython3",
   "version": "3.7.4"
  }
 },
 "nbformat": 4,
 "nbformat_minor": 4
}
