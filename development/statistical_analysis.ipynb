{
 "cells": [
  {
   "cell_type": "code",
   "execution_count": 1,
   "metadata": {},
   "outputs": [],
   "source": [
    "import numpy as np\n",
    "import pandas as pd\n",
    "import math\n",
    "import matplotlib.pyplot as plt\n",
    "import scipy.stats as sts\n",
    "import psycopg2 as pg2\n",
    "\n",
    "from sqlalchemy import create_engine\n",
    "\n",
    "plt.style.use('ggplot')\n",
    "%matplotlib inline"
   ]
  },
  {
   "cell_type": "code",
   "execution_count": 2,
   "metadata": {},
   "outputs": [],
   "source": [
    "# Set db variables\n",
    "user = 'anthony'\n",
    "pw = 'pw'\n",
    "host = 'localhost:5432'\n",
    "db_name = 'indicator_tests'\n",
    "\n",
    "# Create engine for interacting with db\n",
    "engine = create_engine(f'postgresql+psycopg2://{user}:{pw}@{host}/{db_name}')"
   ]
  },
  {
   "cell_type": "markdown",
   "metadata": {},
   "source": [
    "### Get NASDAQ ETF list :\n"
   ]
  },
  {
   "cell_type": "code",
   "execution_count": 3,
   "metadata": {},
   "outputs": [],
   "source": [
    "nas_etf = pd.read_csv('../data/NAS_ETF_List.csv')"
   ]
  },
  {
   "cell_type": "code",
   "execution_count": 4,
   "metadata": {},
   "outputs": [],
   "source": [
    "nas_etf = nas_etf['Symbol'].to_list()"
   ]
  },
  {
   "cell_type": "code",
   "execution_count": 5,
   "metadata": {},
   "outputs": [
    {
     "data": {
      "text/plain": [
       "['IJH', 'IJJ', 'IJK', 'IJR', 'IJS', 'IJT', 'IMFP', 'INAU', 'ISMD', 'ITA']"
      ]
     },
     "execution_count": 5,
     "metadata": {},
     "output_type": "execute_result"
    }
   ],
   "source": [
    "nas_etf[:10]"
   ]
  },
  {
   "cell_type": "markdown",
   "metadata": {},
   "source": [
    "### SMA Entries"
   ]
  },
  {
   "cell_type": "code",
   "execution_count": 6,
   "metadata": {},
   "outputs": [],
   "source": [
    "sma_nas = pd.read_sql_query(f'''SELECT ticker, sma_win\n",
    "                                FROM sma_nasdaq\n",
    "                                WHERE sma_buy = 1''',\n",
    "                            con=engine)"
   ]
  },
  {
   "cell_type": "code",
   "execution_count": 7,
   "metadata": {},
   "outputs": [
    {
     "name": "stdout",
     "output_type": "stream",
     "text": [
      "<class 'pandas.core.frame.DataFrame'>\n",
      "RangeIndex: 3043 entries, 0 to 3042\n",
      "Data columns (total 2 columns):\n",
      "ticker     3035 non-null object\n",
      "sma_win    3043 non-null int64\n",
      "dtypes: int64(1), object(1)\n",
      "memory usage: 47.7+ KB\n"
     ]
    }
   ],
   "source": [
    "# Note: some tickers are None\n",
    "sma_nas.info()"
   ]
  },
  {
   "cell_type": "code",
   "execution_count": 8,
   "metadata": {},
   "outputs": [],
   "source": [
    "sma_nas.dropna(inplace=True)"
   ]
  },
  {
   "cell_type": "code",
   "execution_count": 9,
   "metadata": {},
   "outputs": [
    {
     "name": "stdout",
     "output_type": "stream",
     "text": [
      "<class 'pandas.core.frame.DataFrame'>\n",
      "Int64Index: 3035 entries, 0 to 3042\n",
      "Data columns (total 2 columns):\n",
      "ticker     3035 non-null object\n",
      "sma_win    3035 non-null int64\n",
      "dtypes: int64(1), object(1)\n",
      "memory usage: 71.1+ KB\n"
     ]
    }
   ],
   "source": [
    "sma_nas.info()"
   ]
  },
  {
   "cell_type": "code",
   "execution_count": 10,
   "metadata": {},
   "outputs": [],
   "source": [
    "# Remove ETFs if exist\n",
    "sma_nas = sma_nas[~sma_nas.ticker.isin(nas_etf)]"
   ]
  },
  {
   "cell_type": "code",
   "execution_count": 11,
   "metadata": {},
   "outputs": [
    {
     "name": "stdout",
     "output_type": "stream",
     "text": [
      "<class 'pandas.core.frame.DataFrame'>\n",
      "Int64Index: 2976 entries, 0 to 3042\n",
      "Data columns (total 2 columns):\n",
      "ticker     2976 non-null object\n",
      "sma_win    2976 non-null int64\n",
      "dtypes: int64(1), object(1)\n",
      "memory usage: 69.8+ KB\n"
     ]
    }
   ],
   "source": [
    "sma_nas.info()"
   ]
  },
  {
   "cell_type": "code",
   "execution_count": 12,
   "metadata": {},
   "outputs": [
    {
     "data": {
      "text/html": [
       "<div>\n",
       "<style scoped>\n",
       "    .dataframe tbody tr th:only-of-type {\n",
       "        vertical-align: middle;\n",
       "    }\n",
       "\n",
       "    .dataframe tbody tr th {\n",
       "        vertical-align: top;\n",
       "    }\n",
       "\n",
       "    .dataframe thead th {\n",
       "        text-align: right;\n",
       "    }\n",
       "</style>\n",
       "<table border=\"1\" class=\"dataframe\">\n",
       "  <thead>\n",
       "    <tr style=\"text-align: right;\">\n",
       "      <th></th>\n",
       "      <th>ticker</th>\n",
       "      <th>sma_win</th>\n",
       "    </tr>\n",
       "  </thead>\n",
       "  <tbody>\n",
       "    <tr>\n",
       "      <th>0</th>\n",
       "      <td>MVIS</td>\n",
       "      <td>0</td>\n",
       "    </tr>\n",
       "    <tr>\n",
       "      <th>1</th>\n",
       "      <td>MVIS</td>\n",
       "      <td>0</td>\n",
       "    </tr>\n",
       "    <tr>\n",
       "      <th>2</th>\n",
       "      <td>MVIS</td>\n",
       "      <td>1</td>\n",
       "    </tr>\n",
       "    <tr>\n",
       "      <th>3</th>\n",
       "      <td>MVIS</td>\n",
       "      <td>1</td>\n",
       "    </tr>\n",
       "    <tr>\n",
       "      <th>4</th>\n",
       "      <td>MVIS</td>\n",
       "      <td>0</td>\n",
       "    </tr>\n",
       "  </tbody>\n",
       "</table>\n",
       "</div>"
      ],
      "text/plain": [
       "  ticker  sma_win\n",
       "0   MVIS        0\n",
       "1   MVIS        0\n",
       "2   MVIS        1\n",
       "3   MVIS        1\n",
       "4   MVIS        0"
      ]
     },
     "execution_count": 12,
     "metadata": {},
     "output_type": "execute_result"
    }
   ],
   "source": [
    "sma_nas.head()"
   ]
  },
  {
   "cell_type": "code",
   "execution_count": 13,
   "metadata": {},
   "outputs": [
    {
     "data": {
      "image/png": "[encoded data removed]",
      "text/plain": [
       "<Figure size 648x648 with 1 Axes>"
      ]
     },
     "metadata": {
      "needs_background": "light"
     },
     "output_type": "display_data"
    }
   ],
   "source": [
    "ax = sma_nas.sma_win.value_counts().plot(kind='bar',\n",
    "                                         figsize=(9,9),\n",
    "                                         title= 'Wins/Losses for SMA on NASDAQ',\n",
    "                                         color=['red', 'blue']\n",
    "                                        )"
   ]
  },
  {
   "cell_type": "code",
   "execution_count": 14,
   "metadata": {},
   "outputs": [
    {
     "name": "stdout",
     "output_type": "stream",
     "text": [
      "wins: 859\n",
      "losses: 2117\n",
      "mean: 0.28864247311827956\n",
      "std: 0.4532074730674296\n",
      "se: 0.008307696053932029\n"
     ]
    }
   ],
   "source": [
    "wins = sma_nas.sma_win.value_counts()[1]\n",
    "losses = sma_nas.sma_win.value_counts()[0]\n",
    "sma_mean = sma_nas.loc[:,\"sma_win\"].mean()\n",
    "std = sma_nas.loc[:,\"sma_win\"].std()\n",
    "sma_se = std / np.sqrt(wins+losses)\n",
    "print(f'wins: {wins}\\nlosses: {losses}\\nmean: {sma_mean}\\nstd: {std}\\nse: {sma_se}')"
   ]
  },
  {
   "cell_type": "code",
   "execution_count": 15,
   "metadata": {},
   "outputs": [
    {
     "data": {
      "text/plain": [
       "Text(0, 0.5, 'Observations')"
      ]
     },
     "execution_count": 15,
     "metadata": {},
     "output_type": "execute_result"
    },
    {
     "data": {
      "image/png": "[encoded data removed]",
      "text/plain": [
       "<Figure size 432x288 with 1 Axes>"
      ]
     },
     "metadata": {
      "needs_background": "light"
     },
     "output_type": "display_data"
    }
   ],
   "source": [
    "x_min = 0.26\n",
    "x_max = 0.325\n",
    "\n",
    "mean = sma_mean \n",
    "std = sma_se\n",
    "\n",
    "x = np.linspace(x_min, x_max, wins+losses)\n",
    "\n",
    "y = sts.norm.pdf(x,mean,std)\n",
    "\n",
    "plt.plot(x,y, color='coral')\n",
    "\n",
    "plt.xlim(x_min,x_max)\n",
    "plt.ylim(0,50)\n",
    "\n",
    "plt.title('SMA Win Distribution',fontsize=22)\n",
    "\n",
    "plt.xlabel('Win Percentages')\n",
    "plt.ylabel('Observations')"
   ]
  },
  {
   "cell_type": "markdown",
   "metadata": {},
   "source": [
    "### Random Entries"
   ]
  },
  {
   "cell_type": "code",
   "execution_count": 16,
   "metadata": {},
   "outputs": [],
   "source": [
    "rnd_nas = pd.read_sql_query(f'''SELECT ticker, rnd_win\n",
    "                                FROM sma_nasdaq\n",
    "                                WHERE rnd_buy = 1''',\n",
    "                            con=engine)"
   ]
  },
  {
   "cell_type": "code",
   "execution_count": 17,
   "metadata": {},
   "outputs": [
    {
     "name": "stdout",
     "output_type": "stream",
     "text": [
      "<class 'pandas.core.frame.DataFrame'>\n",
      "RangeIndex: 2986 entries, 0 to 2985\n",
      "Data columns (total 2 columns):\n",
      "ticker     2986 non-null object\n",
      "rnd_win    2986 non-null int64\n",
      "dtypes: int64(1), object(1)\n",
      "memory usage: 46.8+ KB\n"
     ]
    }
   ],
   "source": [
    "rnd_nas.info()"
   ]
  },
  {
   "cell_type": "code",
   "execution_count": 18,
   "metadata": {},
   "outputs": [],
   "source": [
    "# Remove ETFs if exist\n",
    "rnd_nas = rnd_nas[~rnd_nas.ticker.isin(nas_etf)]"
   ]
  },
  {
   "cell_type": "code",
   "execution_count": 19,
   "metadata": {},
   "outputs": [
    {
     "name": "stdout",
     "output_type": "stream",
     "text": [
      "<class 'pandas.core.frame.DataFrame'>\n",
      "Int64Index: 2930 entries, 0 to 2985\n",
      "Data columns (total 2 columns):\n",
      "ticker     2930 non-null object\n",
      "rnd_win    2930 non-null int64\n",
      "dtypes: int64(1), object(1)\n",
      "memory usage: 68.7+ KB\n"
     ]
    }
   ],
   "source": [
    "rnd_nas.info()"
   ]
  },
  {
   "cell_type": "code",
   "execution_count": 20,
   "metadata": {},
   "outputs": [
    {
     "data": {
      "text/html": [
       "<div>\n",
       "<style scoped>\n",
       "    .dataframe tbody tr th:only-of-type {\n",
       "        vertical-align: middle;\n",
       "    }\n",
       "\n",
       "    .dataframe tbody tr th {\n",
       "        vertical-align: top;\n",
       "    }\n",
       "\n",
       "    .dataframe thead th {\n",
       "        text-align: right;\n",
       "    }\n",
       "</style>\n",
       "<table border=\"1\" class=\"dataframe\">\n",
       "  <thead>\n",
       "    <tr style=\"text-align: right;\">\n",
       "      <th></th>\n",
       "      <th>ticker</th>\n",
       "      <th>rnd_win</th>\n",
       "    </tr>\n",
       "  </thead>\n",
       "  <tbody>\n",
       "    <tr>\n",
       "      <th>0</th>\n",
       "      <td>MVIS</td>\n",
       "      <td>0</td>\n",
       "    </tr>\n",
       "    <tr>\n",
       "      <th>1</th>\n",
       "      <td>MVIS</td>\n",
       "      <td>1</td>\n",
       "    </tr>\n",
       "    <tr>\n",
       "      <th>2</th>\n",
       "      <td>MVIS</td>\n",
       "      <td>1</td>\n",
       "    </tr>\n",
       "    <tr>\n",
       "      <th>3</th>\n",
       "      <td>MVIS</td>\n",
       "      <td>0</td>\n",
       "    </tr>\n",
       "    <tr>\n",
       "      <th>4</th>\n",
       "      <td>MVIS</td>\n",
       "      <td>0</td>\n",
       "    </tr>\n",
       "  </tbody>\n",
       "</table>\n",
       "</div>"
      ],
      "text/plain": [
       "  ticker  rnd_win\n",
       "0   MVIS        0\n",
       "1   MVIS        1\n",
       "2   MVIS        1\n",
       "3   MVIS        0\n",
       "4   MVIS        0"
      ]
     },
     "execution_count": 20,
     "metadata": {},
     "output_type": "execute_result"
    }
   ],
   "source": [
    "rnd_nas.head()"
   ]
  },
  {
   "cell_type": "code",
   "execution_count": 21,
   "metadata": {},
   "outputs": [
    {
     "data": {
      "image/png": "[encoded data removed]",
      "text/plain": [
       "<Figure size 648x648 with 1 Axes>"
      ]
     },
     "metadata": {
      "needs_background": "light"
     },
     "output_type": "display_data"
    }
   ],
   "source": [
    "ax = rnd_nas.rnd_win.value_counts().plot(kind='bar',\n",
    "                                         figsize=(9,9),\n",
    "                                         title= 'Wins/Losses for Random on NASDAQ',\n",
    "                                         color=['red', 'blue']\n",
    "                                        )"
   ]
  },
  {
   "cell_type": "code",
   "execution_count": 22,
   "metadata": {},
   "outputs": [
    {
     "name": "stdout",
     "output_type": "stream",
     "text": [
      "wins: 827\n",
      "losses: 2103\n",
      "mean: 0.28225255972696245\n",
      "std: 0.45017243125041223\n",
      "se: 0.008316586040225485\n"
     ]
    }
   ],
   "source": [
    "wins = rnd_nas.rnd_win.value_counts()[1]\n",
    "losses = rnd_nas.rnd_win.value_counts()[0]\n",
    "rnd_mean = rnd_nas.loc[:,\"rnd_win\"].mean()\n",
    "std = rnd_nas.loc[:,\"rnd_win\"].std()\n",
    "rnd_se = std / np.sqrt(wins+losses)\n",
    "print(f'wins: {wins}\\nlosses: {losses}\\nmean: {rnd_mean}\\nstd: {std}\\nse: {rnd_se}')"
   ]
  },
  {
   "cell_type": "code",
   "execution_count": 23,
   "metadata": {},
   "outputs": [
    {
     "data": {
      "text/plain": [
       "Text(0, 0.5, 'Observations')"
      ]
     },
     "execution_count": 23,
     "metadata": {},
     "output_type": "execute_result"
    },
    {
     "data": {
      "image/png": "[encoded data removed]",
      "text/plain": [
       "<Figure size 432x288 with 1 Axes>"
      ]
     },
     "metadata": {
      "needs_background": "light"
     },
     "output_type": "display_data"
    }
   ],
   "source": [
    "x_min = 0.25\n",
    "x_max = 0.315\n",
    "\n",
    "mean = rnd_mean \n",
    "std = rnd_se\n",
    "\n",
    "x = np.linspace(x_min, x_max, wins+losses)\n",
    "\n",
    "y = sts.norm.pdf(x,mean,std)\n",
    "\n",
    "plt.plot(x,y, color='coral')\n",
    "\n",
    "plt.xlim(x_min,x_max)\n",
    "plt.ylim(0,50)\n",
    "\n",
    "plt.title('Random Win Distribution',fontsize=22)\n",
    "\n",
    "plt.xlabel('Win Percentages')\n",
    "plt.ylabel('Observations')"
   ]
  },
  {
   "cell_type": "code",
   "execution_count": 52,
   "metadata": {
    "scrolled": true
   },
   "outputs": [
    {
     "name": "stdout",
     "output_type": "stream",
     "text": [
      "sigma0: 0.008316586040225485\n",
      "sigmaA: 0.008307696053932029\n",
      "crit_val: 1.645374027818176\n"
     ]
    },
    {
     "data": {
      "text/plain": [
       "-0.006389913391317115"
      ]
     },
     "execution_count": 52,
     "metadata": {},
     "output_type": "execute_result"
    },
    {
     "data": {
      "image/png": "[encoded data removed]",
      "text/plain": [
       "<Figure size 432x288 with 1 Axes>"
      ]
     },
     "metadata": {
      "needs_background": "light"
     },
     "output_type": "display_data"
    },
    {
     "data": {
      "text/plain": [
       "<Figure size 1440x720 with 0 Axes>"
      ]
     },
     "metadata": {},
     "output_type": "display_data"
    }
   ],
   "source": [
    "H0 = rnd_data\n",
    "HA = sma_data\n",
    "alpha = 0.05\n",
    "one_tailed=True\n",
    "\n",
    "df = len(H0)-1\n",
    "\n",
    "# crit_val = sts.norm.ppf(1 - alpha) if one_tailed==True else sts.norm.ppf(1 - alpha/2)\n",
    "crit_val = sts.t.ppf(1-alpha, df) if one_tailed==True else sts.t.ppf(1-alpha/2, df)\n",
    "\n",
    "# Curve 1\n",
    "mu0 = H0.mean()\n",
    "std0 = H0.std()\n",
    "n0 = len(H0)\n",
    "# n0 = 54000\n",
    "sigma0 = std0/np.sqrt(n0)\n",
    "x = np.linspace(mu0 - 5 * sigma0, mu0 + 5 * sigma0, 100)\n",
    "plt.plot(x, sts.norm.pdf(x, mu0, sigma0), label =\"$H_0$\")\n",
    "\n",
    "# Curve 2\n",
    "muA = HA.mean()\n",
    "stdA = HA.std()\n",
    "nA = len(HA)\n",
    "# nA = 54000\n",
    "sigmaA = stdA/np.sqrt(nA)\n",
    "plt.plot(x, sts.norm.pdf(x, muA, sigmaA), color=\"black\", label=\"$H_a$\")\n",
    "\n",
    "# Critical line\n",
    "crit_line = (mu0 + crit_val * sigma0)\n",
    "plt.axvline(crit_line, color='yellow', label=\"Rej. Boundary\")\n",
    "x3 = np.linspace(crit_line, mu0 + 5 * sigma0, 100)\n",
    "plt.fill_between(x3, sts.norm.pdf(x3, muA, sigmaA), color='black', label=\"Power Region\")\n",
    "plt.legend(loc='upper left')\n",
    "plt.figure(figsize=(20,10))\n",
    "\n",
    "print(f'sigma0: {sigma0}')\n",
    "print(f'sigmaA: {sigmaA}')\n",
    "print(f'crit_val: {crit_val}')\n",
    "mu0-muA"
   ]
  },
  {
   "cell_type": "code",
   "execution_count": 72,
   "metadata": {},
   "outputs": [],
   "source": [
    "def plot_power(H0, HA, alpha=.05, one_tailed=True):\n",
    "    \"\"\"Plot a graphic showing the power of a hypothesis test.\n",
    "    \n",
    "    Useful to explore how power relates to sample size, effect size,\n",
    "    significance, and standard deviation.\n",
    "    H0, Ha: ndarray or pd.Series\n",
    "    \"\"\"\n",
    "    df = len(H0)-1\n",
    "    crit_val = sts.t.ppf(1-alpha, df) if one_tailed==True else sts.t.ppf(1-alpha/2, df)\n",
    "\n",
    "    \n",
    "    # Curve 1\n",
    "    mu0 = H0.mean()\n",
    "    std0 = H0.std()\n",
    "    n0 = len(H0)\n",
    "    # n0 = 54000\n",
    "    sigma0 = std0/np.sqrt(n0)\n",
    "    x = np.linspace(mu0 - 5 * sigma0, mu0 + 5 * sigma0, 100)\n",
    "    plt.plot(x, sts.norm.pdf(x, mu0, sigma0), label =\"$H_0$\")\n",
    "\n",
    "    # Curve 2\n",
    "    muA = HA.mean()\n",
    "    stdA = HA.std()\n",
    "    nA = len(HA)\n",
    "    # nA = 54000\n",
    "    sigmaA = stdA/np.sqrt(nA)\n",
    "    plt.plot(x, sts.norm.pdf(x, muA, sigmaA), color=\"black\", label=\"$H_a$\")\n",
    "\n",
    "    # Critical line\n",
    "    crit_line = (mu0 + crit_val * sigma0)\n",
    "    plt.axvline(crit_line, color='yellow', label=\"Rej. Boundary\")\n",
    "    \n",
    "    # Power region\n",
    "    x3 = np.linspace(crit_line, mu0 + 5 * sigma0, 100)\n",
    "    plt.fill_between(x3, sts.norm.pdf(x3, muA, sigmaA), color='black', label=\"Power Region\")\n",
    "    \n",
    "    plt.title('Test Power')\n",
    "    plt.legend(loc='upper left')\n",
    "    plt.figure(figsize=(20,20))\n",
    "\n",
    "    power = 1 - sts.norm(muA, sigmaA).cdf(crit_line)\n",
    "    \n",
    "    print(f\"Significance: {alpha}\")\n",
    "    print(f\"Rejection Boundary: {crit_line:.3f}\")\n",
    "    print(f\"Diff. in means: {abs(mu0 - muA):.3f}\")\n",
    "    print(f\"Sample sizes: \\n\\tH0 {n0}\\n\\tHA {nA}\")\n",
    "    print(f\"Standard Errors: \\n\\tH0 {sigma0:.5f}\\n\\tHA {sigmaA:.5f}\")\n",
    "    print(f\"Power: {power:.4f}\")\n",
    "    plt.show()"
   ]
  },
  {
   "cell_type": "markdown",
   "metadata": {},
   "source": [
    "# Calculate Statistics"
   ]
  },
  {
   "cell_type": "code",
   "execution_count": 25,
   "metadata": {},
   "outputs": [
    {
     "name": "stdout",
     "output_type": "stream",
     "text": [
      "t_stat: -0.543584428915917\n",
      "p_value: 0.5867480026815965\n"
     ]
    }
   ],
   "source": [
    "rnd_data = rnd_nas.rnd_win\n",
    "sma_data = sma_nas.sma_win\n",
    "\n",
    "t_stat, p_value = sts.ttest_ind(rnd_data, sma_data, equal_var=False)\n",
    "\n",
    "print(f't_stat: {t_stat}\\np_value: {p_value}')"
   ]
  },
  {
   "cell_type": "code",
   "execution_count": 46,
   "metadata": {},
   "outputs": [
    {
     "name": "stdout",
     "output_type": "stream",
     "text": [
      "t_val: 1.6453617078374079\n"
     ]
    }
   ],
   "source": [
    "# #Studnt, n=999, p<0.05%, Single tail\n",
    "num = 3000\n",
    "alpha = 0.05\n",
    "t_val = sts.t.ppf(1-alpha, num)\n",
    "print(f't_val: {t_val}')"
   ]
  },
  {
   "cell_type": "code",
   "execution_count": 47,
   "metadata": {},
   "outputs": [
    {
     "name": "stdout",
     "output_type": "stream",
     "text": [
      "1.6448536269514722 1.6448536269514729\n",
      "The number of samples needed to reject a null hypothesis at these means: 53695\n"
     ]
    }
   ],
   "source": [
    "alpha, beta = (.05, .05)\n",
    "mu_a = mu0\n",
    "mu_b = muA\n",
    "std = np.sqrt(mu0*(1-mu0))\n",
    "\n",
    "#ppf - percent point function, inverse of cdf\n",
    "z_alpha = sts.norm.ppf(1-alpha)\n",
    "z_beta = -1*sts.norm.ppf(beta)\n",
    "print(z_alpha, z_beta)\n",
    "\n",
    "n = np.power(((z_alpha+z_beta)*std)/(mu_a - mu_b),2)\n",
    "print(f'The number of samples needed to reject the null hypothesis at these means: {int(n)}')"
   ]
  },
  {
   "cell_type": "code",
   "execution_count": 73,
   "metadata": {},
   "outputs": [
    {
     "name": "stdout",
     "output_type": "stream",
     "text": [
      "Significance: 0.05\n",
      "Rejection Boundary: 0.296\n",
      "Diff. in means: 0.006\n",
      "Sample sizes: \n",
      "\tH0 2930\n",
      "\tHA 2976\n",
      "Standard Errors: \n",
      "\tH0 0.00832\n",
      "\tHA 0.00831\n",
      "Power: 0.1900\n"
     ]
    },
    {
     "data": {
      "image/png": "[encoded data removed]",
      "text/plain": [
       "<Figure size 432x288 with 1 Axes>"
      ]
     },
     "metadata": {
      "needs_background": "light"
     },
     "output_type": "display_data"
    },
    {
     "data": {
      "text/plain": [
       "<Figure size 1440x1440 with 0 Axes>"
      ]
     },
     "metadata": {},
     "output_type": "display_data"
    }
   ],
   "source": [
    "plot_power(rnd_data, sma_data, alpha=0.05, one_tailed=True)"
   ]
  },
  {
   "cell_type": "code",
   "execution_count": null,
   "metadata": {},
   "outputs": [],
   "source": []
  }
 ],
 "metadata": {
  "kernelspec": {
   "display_name": "Python 3",
   "language": "python",
   "name": "python3"
  },
  "language_info": {
   "codemirror_mode": {
    "name": "ipython",
    "version": 3
   },
   "file_extension": ".py",
   "mimetype": "text/x-python",
   "name": "python",
   "nbconvert_exporter": "python",
   "pygments_lexer": "ipython3",
   "version": "3.7.4"
  }
 },
 "nbformat": 4,
 "nbformat_minor": 4
}
