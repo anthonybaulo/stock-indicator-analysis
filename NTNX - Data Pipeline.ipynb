{
 "cells": [
  {
   "cell_type": "code",
   "execution_count": 1,
   "metadata": {},
   "outputs": [],
   "source": [
    "from config import API_KEY\n",
    "\n",
    "from alpha_vantage.timeseries import TimeSeries\n",
    "from alpha_vantage.techindicators import TechIndicators\n",
    "\n",
    "import pandas as pd\n",
    "\n",
    "# import matplotlib.pyplot as plt\n",
    "# %matplotlib inline"
   ]
  },
  {
   "cell_type": "code",
   "execution_count": 2,
   "metadata": {},
   "outputs": [],
   "source": [
    "ts = TimeSeries(key=API_KEY, output_format='pandas')\n",
    "ti = TechIndicators(key=API_KEY, output_format='pandas')"
   ]
  },
  {
   "cell_type": "code",
   "execution_count": 3,
   "metadata": {},
   "outputs": [],
   "source": [
    "ntnx, meta_data = ts.get_intraday('NTNX', interval='15min', outputsize='compact')"
   ]
  },
  {
   "cell_type": "code",
   "execution_count": 4,
   "metadata": {},
   "outputs": [
    {
     "data": {
      "text/html": [
       "<div>\n",
       "<style scoped>\n",
       "    .dataframe tbody tr th:only-of-type {\n",
       "        vertical-align: middle;\n",
       "    }\n",
       "\n",
       "    .dataframe tbody tr th {\n",
       "        vertical-align: top;\n",
       "    }\n",
       "\n",
       "    .dataframe thead th {\n",
       "        text-align: right;\n",
       "    }\n",
       "</style>\n",
       "<table border=\"1\" class=\"dataframe\">\n",
       "  <thead>\n",
       "    <tr style=\"text-align: right;\">\n",
       "      <th></th>\n",
       "      <th>1. open</th>\n",
       "      <th>2. high</th>\n",
       "      <th>3. low</th>\n",
       "      <th>4. close</th>\n",
       "      <th>5. volume</th>\n",
       "    </tr>\n",
       "    <tr>\n",
       "      <th>date</th>\n",
       "      <th></th>\n",
       "      <th></th>\n",
       "      <th></th>\n",
       "      <th></th>\n",
       "      <th></th>\n",
       "    </tr>\n",
       "  </thead>\n",
       "  <tbody>\n",
       "    <tr>\n",
       "      <th>2019-09-10 11:30:00</th>\n",
       "      <td>26.1411</td>\n",
       "      <td>26.2202</td>\n",
       "      <td>26.055</td>\n",
       "      <td>26.0611</td>\n",
       "      <td>220902.0</td>\n",
       "    </tr>\n",
       "    <tr>\n",
       "      <th>2019-09-10 11:15:00</th>\n",
       "      <td>26.0000</td>\n",
       "      <td>26.1832</td>\n",
       "      <td>26.000</td>\n",
       "      <td>26.1300</td>\n",
       "      <td>199526.0</td>\n",
       "    </tr>\n",
       "    <tr>\n",
       "      <th>2019-09-10 11:00:00</th>\n",
       "      <td>25.9900</td>\n",
       "      <td>26.0800</td>\n",
       "      <td>25.920</td>\n",
       "      <td>26.0000</td>\n",
       "      <td>230592.0</td>\n",
       "    </tr>\n",
       "    <tr>\n",
       "      <th>2019-09-10 10:45:00</th>\n",
       "      <td>25.7005</td>\n",
       "      <td>26.0132</td>\n",
       "      <td>25.690</td>\n",
       "      <td>25.9805</td>\n",
       "      <td>382522.0</td>\n",
       "    </tr>\n",
       "    <tr>\n",
       "      <th>2019-09-10 10:30:00</th>\n",
       "      <td>25.6233</td>\n",
       "      <td>25.8000</td>\n",
       "      <td>25.620</td>\n",
       "      <td>25.7008</td>\n",
       "      <td>138131.0</td>\n",
       "    </tr>\n",
       "  </tbody>\n",
       "</table>\n",
       "</div>"
      ],
      "text/plain": [
       "                     1. open  2. high  3. low  4. close  5. volume\n",
       "date                                                              \n",
       "2019-09-10 11:30:00  26.1411  26.2202  26.055   26.0611   220902.0\n",
       "2019-09-10 11:15:00  26.0000  26.1832  26.000   26.1300   199526.0\n",
       "2019-09-10 11:00:00  25.9900  26.0800  25.920   26.0000   230592.0\n",
       "2019-09-10 10:45:00  25.7005  26.0132  25.690   25.9805   382522.0\n",
       "2019-09-10 10:30:00  25.6233  25.8000  25.620   25.7008   138131.0"
      ]
     },
     "execution_count": 4,
     "metadata": {},
     "output_type": "execute_result"
    }
   ],
   "source": [
    "ntnx.head()"
   ]
  },
  {
   "cell_type": "code",
   "execution_count": 6,
   "metadata": {},
   "outputs": [],
   "source": [
    "ntnx.drop(columns='5. volume', inplace=True)"
   ]
  },
  {
   "cell_type": "code",
   "execution_count": 7,
   "metadata": {},
   "outputs": [],
   "source": [
    "# Sort with oldest date on top\n",
    "ntnx.sort_index(ascending=True, inplace=True)"
   ]
  },
  {
   "cell_type": "code",
   "execution_count": 8,
   "metadata": {},
   "outputs": [],
   "source": [
    "# If converting index to datetime, run the following\n",
    "# For some reason, the plot funciton did not work as well on datetime index\n",
    "# ntnx.index = pd.to_datetime(ntnx.index)"
   ]
  },
  {
   "cell_type": "code",
   "execution_count": 9,
   "metadata": {},
   "outputs": [],
   "source": [
    "ntnx = ntnx.rename(columns={\"1. open\": \"open\",\n",
    "                            \"2. high\": \"high\",\n",
    "                            \"3. low\": \"low\",\n",
    "                            \"4. close\": \"close\"})"
   ]
  },
  {
   "cell_type": "markdown",
   "metadata": {},
   "source": [
    "The next steps would be to grab the indicator data from the API, clean it up and join it with the price data on the date column.<br>\n",
    "Once the transfer to psql is confirmed with this test, implement the above actions as part of the pipeline."
   ]
  },
  {
   "cell_type": "code",
   "execution_count": null,
   "metadata": {},
   "outputs": [],
   "source": []
  }
 ],
 "metadata": {
  "kernelspec": {
   "display_name": "Python 3",
   "language": "python",
   "name": "python3"
  },
  "language_info": {
   "codemirror_mode": {
    "name": "ipython",
    "version": 3
   },
   "file_extension": ".py",
   "mimetype": "text/x-python",
   "name": "python",
   "nbconvert_exporter": "python",
   "pygments_lexer": "ipython3",
   "version": "3.7.4"
  }
 },
 "nbformat": 4,
 "nbformat_minor": 4
}
