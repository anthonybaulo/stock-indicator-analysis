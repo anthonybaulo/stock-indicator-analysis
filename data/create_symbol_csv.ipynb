{
 "cells": [
  {
   "cell_type": "code",
   "execution_count": 6,
   "metadata": {},
   "outputs": [],
   "source": [
    "import pandas as pd\n",
    "import random"
   ]
  },
  {
   "cell_type": "markdown",
   "metadata": {},
   "source": [
    "The txt files were downloaded from https://eoddata.com/symbols.aspx\n",
    "\n",
    "This script will process them and store them as csv's for later use"
   ]
  },
  {
   "cell_type": "code",
   "execution_count": 28,
   "metadata": {},
   "outputs": [],
   "source": [
    "NAS_ls = pd.read_csv('NASDAQ_symbols.txt', delimiter='\\t')\n",
    "NAS_ls = NAS_ls[NAS_ls['Symbol'].str.contains('-|\\.') == False]\n",
    "NAS_ls = NAS_ls.reset_index(drop=True)\n",
    "NAS_ls['Symbol'].to_csv('NASDAQ_sym_FULL.csv', header=True, index=False)"
   ]
  },
  {
   "cell_type": "code",
   "execution_count": 29,
   "metadata": {},
   "outputs": [],
   "source": [
    "rnd_idxs = random.sample(range(len(NAS_ls)), len(NAS_ls))\n",
    "\n",
    "rnd_df = NAS_ls.loc[rnd_idxs]\n",
    "\n",
    "rnd_df['Symbol'].to_csv('NASDAQ_rnd_FULL.csv', header=True, index=False)"
   ]
  },
  {
   "cell_type": "code",
   "execution_count": 30,
   "metadata": {},
   "outputs": [],
   "source": [
    "NYSE_ls = pd.read_csv('NYSE_symbols.txt', delimiter='\\t')\n",
    "NYSE_ls = NYSE_ls[NYSE_ls['Symbol'].str.contains('-|\\.') == False]\n",
    "NYSE_ls = NYSE_ls.reset_index(drop=True)\n",
    "NYSE_ls['Symbol'].to_csv('NYSE_sym_FULL.csv', header=True, index=False)"
   ]
  },
  {
   "cell_type": "code",
   "execution_count": 31,
   "metadata": {},
   "outputs": [],
   "source": [
    "rnd_idxs = random.sample(range(len(NYSE_ls)), len(NYSE_ls))\n",
    "\n",
    "rnd_df = NYSE_ls.loc[rnd_idxs]\n",
    "\n",
    "rnd_df['Symbol'].to_csv('NYSE_rnd_FULL.csv', header=True, index=False)"
   ]
  },
  {
   "cell_type": "code",
   "execution_count": null,
   "metadata": {},
   "outputs": [],
   "source": []
  }
 ],
 "metadata": {
  "kernelspec": {
   "display_name": "Python 3",
   "language": "python",
   "name": "python3"
  },
  "language_info": {
   "codemirror_mode": {
    "name": "ipython",
    "version": 3
   },
   "file_extension": ".py",
   "mimetype": "text/x-python",
   "name": "python",
   "nbconvert_exporter": "python",
   "pygments_lexer": "ipython3",
   "version": "3.7.4"
  }
 },
 "nbformat": 4,
 "nbformat_minor": 4
}
